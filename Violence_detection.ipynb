{
  "nbformat": 4,
  "nbformat_minor": 0,
  "metadata": {
    "colab": {
      "name": "Violence detection.ipynb",
      "provenance": [],
      "collapsed_sections": [],
      "machine_shape": "hm"
    },
    "kernelspec": {
      "name": "python3",
      "display_name": "Python 3"
    },
    "accelerator": "GPU"
  },
  "cells": [
    {
      "cell_type": "code",
      "metadata": {
        "id": "ujPWQNx8kJcZ",
        "colab_type": "code",
        "colab": {
          "base_uri": "https://localhost:8080/",
          "height": 1000
        },
        "outputId": "a3391f64-3869-443d-bc22-8cdbd9a6ae79"
      },
      "source": [
        "'''\n",
        "  this part is responsible for the mounting of data from the drive into the\n",
        "  notebook and retrieving the dataset\n",
        "'''\n",
        "from google.colab import drive\n",
        "drive.mount('/content/drive/')\n",
        "\n",
        "!cp './drive/My Drive/Graduation project/Dataset.zip' /content\n",
        "!unzip ./Dataset.zip\n"
      ],
      "execution_count": null,
      "outputs": [
        {
          "output_type": "stream",
          "text": [
            "Go to this URL in a browser: https://accounts.google.com/o/oauth2/auth?client_id=947318989803-6bn6qk8qdgf4n4g3pfee6491hc0brc4i.apps.googleusercontent.com&redirect_uri=urn%3aietf%3awg%3aoauth%3a2.0%3aoob&scope=email%20https%3a%2f%2fwww.googleapis.com%2fauth%2fdocs.test%20https%3a%2f%2fwww.googleapis.com%2fauth%2fdrive%20https%3a%2f%2fwww.googleapis.com%2fauth%2fdrive.photos.readonly%20https%3a%2f%2fwww.googleapis.com%2fauth%2fpeopleapi.readonly&response_type=code\n",
            "\n",
            "Enter your authorization code:\n",
            "··········\n",
            "Mounted at /content/drive/\n",
            "Archive:  ./Dataset.zip\n",
            "  inflating: 1.mpg                   \n",
            "  inflating: 10.mpg                  \n",
            "  inflating: 100.mpg                 \n",
            "  inflating: 11.mpg                  \n",
            "  inflating: 12 (1).mpg              \n",
            "  inflating: 13.mpg                  \n",
            "  inflating: 14.mpg                  \n",
            "  inflating: 15.mpg                  \n",
            "  inflating: 16.mpg                  \n",
            "  inflating: 17.mpg                  \n",
            "  inflating: 18.mpg                  \n",
            "  inflating: 19.mpg                  \n",
            "  inflating: 2.mpg                   \n",
            "  inflating: 20 (1).mpg              \n",
            "  inflating: 21.mpg                  \n",
            "  inflating: 22.mpg                  \n",
            "  inflating: 23.mpg                  \n",
            "  inflating: 24.mpg                  \n",
            "  inflating: 25.mpg                  \n",
            "  inflating: 26 (1).mpg              \n",
            "  inflating: 27.mpg                  \n",
            "  inflating: 28.mpg                  \n",
            "  inflating: 29.mpg                  \n",
            "  inflating: 3.mpg                   \n",
            "  inflating: 30.mpg                  \n",
            "  inflating: 31.mpg                  \n",
            "  inflating: 32.mpg                  \n",
            "  inflating: 33 (1).mpg              \n",
            "  inflating: 33.mpg                  \n",
            "  inflating: 34.mpg                  \n",
            "  inflating: 35.mpg                  \n",
            "  inflating: 36.mpg                  \n",
            "  inflating: 37.mpg                  \n",
            "  inflating: 38.mpg                  \n",
            "  inflating: 39.mpg                  \n",
            "  inflating: 4 (1).mpg               \n",
            "  inflating: 40.mpg                  \n",
            "  inflating: 41 (1).mpg              \n",
            "  inflating: 42 (1).mpg              \n",
            "  inflating: 43 (1).mpg              \n",
            "  inflating: 44.mpg                  \n",
            "  inflating: 45.mpg                  \n",
            "  inflating: 46.mpg                  \n",
            "  inflating: 47.mpg                  \n",
            "  inflating: 48.mpg                  \n",
            "  inflating: 49.mpg                  \n",
            "  inflating: 5.mpg                   \n",
            "  inflating: 50.mpg                  \n",
            "  inflating: 51.mpg                  \n",
            "  inflating: 52.mpg                  \n",
            "  inflating: 53.mpg                  \n",
            "  inflating: 54.mpg                  \n",
            "  inflating: 55.mpg                  \n",
            "  inflating: 56.mpg                  \n",
            "  inflating: 57.mpg                  \n",
            "  inflating: 58.mpg                  \n",
            "  inflating: 59.mpg                  \n",
            "  inflating: 6.mpg                   \n",
            "  inflating: 60.mpg                  \n",
            "  inflating: 61.mpg                  \n",
            "  inflating: 62.mpg                  \n",
            "  inflating: 63.mpg                  \n",
            "  inflating: 64.mpg                  \n",
            "  inflating: 65.mpg                  \n",
            "  inflating: 66.mpg                  \n",
            "  inflating: 67 (1).mpg              \n",
            "  inflating: 68.mpg                  \n",
            "  inflating: 69.mpg                  \n",
            "  inflating: 7.mpg                   \n",
            "  inflating: 70.mpg                  \n",
            "  inflating: 71avi.mpg               \n",
            "  inflating: 72.mpg                  \n",
            "  inflating: 73.mpg                  \n",
            "  inflating: 74.mpg                  \n",
            "  inflating: 75.mpg                  \n",
            "  inflating: 76.mpg                  \n",
            "  inflating: 77.mpg                  \n",
            "  inflating: 78.mpg                  \n",
            "  inflating: 79.mpg                  \n",
            "  inflating: 8.mpg                   \n",
            "  inflating: 80.mpg                  \n",
            "  inflating: 81.mpg                  \n",
            "  inflating: 82.mpg                  \n",
            "  inflating: 83.mpg                  \n",
            "  inflating: 84.mpg                  \n",
            "  inflating: 85.mpg                  \n",
            "  inflating: 86.mpg                  \n",
            "  inflating: 87.mpg                  \n",
            "  inflating: 88.mpg                  \n",
            "  inflating: 89.mpg                  \n",
            "  inflating: 9.mpg                   \n",
            "  inflating: 90.mpg                  \n",
            "  inflating: 91.mpg                  \n",
            "  inflating: 92.mpg                  \n",
            "  inflating: 93.mpg                  \n",
            "  inflating: 94.mpg                  \n",
            "  inflating: 95.mpg                  \n",
            "  inflating: 96.mpg                  \n",
            "  inflating: 97.mpg                  \n",
            "  inflating: 98.mpg                  \n",
            "  inflating: 99.mpg                  \n",
            "  inflating: fi100_xvid.avi          \n",
            "  inflating: fi101_xvid.avi          \n",
            "  inflating: fi102_xvid.avi          \n",
            "  inflating: fi103_xvid.avi          \n",
            "  inflating: fi104_xvid.avi          \n",
            "  inflating: fi105_xvid.avi          \n",
            "  inflating: fi106_xvid.avi          \n",
            "  inflating: fi107_xvid.avi          \n",
            "  inflating: fi108_xvid.avi          \n",
            "  inflating: fi109_xvid.avi          \n",
            "  inflating: fi10_xvid.avi           \n",
            "  inflating: fi110_xvid.avi          \n",
            "  inflating: fi111_xvid.avi          \n",
            "  inflating: fi112_xvid.avi          \n",
            "  inflating: fi113_xvid.avi          \n",
            "  inflating: fi114_xvid.avi          \n",
            "  inflating: fi115_xvid.avi          \n",
            "  inflating: fi116_xvid.avi          \n",
            "  inflating: fi117_xvid.avi          \n",
            "  inflating: fi118_xvid.avi          \n",
            "  inflating: fi119_xvid.avi          \n",
            "  inflating: fi11_xvid.avi           \n",
            "  inflating: fi120_xvid.avi          \n",
            "  inflating: fi121_xvid.avi          \n",
            "  inflating: fi122_xvid.avi          \n",
            "  inflating: fi123_xvid.avi          \n",
            "  inflating: fi124_xvid.avi          \n",
            "  inflating: fi125_xvid.avi          \n",
            "  inflating: fi126_xvid.avi          \n",
            "  inflating: fi127_xvid.avi          \n",
            "  inflating: fi128_xvid.avi          \n",
            "  inflating: fi129_xvid.avi          \n",
            "  inflating: fi12_xvid.avi           \n",
            "  inflating: fi130_xvid.avi          \n",
            "  inflating: fi131_xvid.avi          \n",
            "  inflating: fi132_xvid.avi          \n",
            "  inflating: fi133_xvid.avi          \n",
            "  inflating: fi134_xvid.avi          \n",
            "  inflating: fi135_xvid.avi          \n",
            "  inflating: fi136_xvid.avi          \n",
            "  inflating: fi137_xvid.avi          \n",
            "  inflating: fi138_xvid.avi          \n",
            "  inflating: fi139_xvid.avi          \n",
            "  inflating: fi13_xvid.avi           \n",
            "  inflating: fi140_xvid.avi          \n",
            "  inflating: fi141_xvid.avi          \n",
            "  inflating: fi142_xvid.avi          \n",
            "  inflating: fi143_xvid.avi          \n",
            "  inflating: fi144_xvid.avi          \n",
            "  inflating: fi145_xvid.avi          \n",
            "  inflating: fi146_xvid.avi          \n",
            "  inflating: fi147_xvid.avi          \n",
            "  inflating: fi148_xvid.avi          \n",
            "  inflating: fi149_xvid.avi          \n",
            "  inflating: fi14_xvid.avi           \n",
            "  inflating: fi150_xvid.avi          \n",
            "  inflating: fi151_xvid.avi          \n",
            "  inflating: fi152_xvid.avi          \n",
            "  inflating: fi153_xvid.avi          \n",
            "  inflating: fi154_xvid.avi          \n",
            "  inflating: fi155_xvid.avi          \n",
            "  inflating: fi156_xvid.avi          \n",
            "  inflating: fi157_xvid.avi          \n",
            "  inflating: fi158_xvid.avi          \n",
            "  inflating: fi159_xvid.avi          \n",
            "  inflating: fi15_xvid.avi           \n",
            "  inflating: fi160_xvid.avi          \n",
            "  inflating: fi161_xvid.avi          \n",
            "  inflating: fi162_xvid.avi          \n",
            "  inflating: fi163_xvid.avi          \n",
            "  inflating: fi164_xvid.avi          \n",
            "  inflating: fi165_xvid.avi          \n",
            "  inflating: fi166_xvid.avi          \n",
            "  inflating: fi167_xvid.avi          \n",
            "  inflating: fi168_xvid.avi          \n",
            "  inflating: fi169_xvid.avi          \n",
            "  inflating: fi16_xvid.avi           \n",
            "  inflating: fi170_xvid.avi          \n",
            "  inflating: fi171_xvid.avi          \n",
            "  inflating: fi172_xvid.avi          \n",
            "  inflating: fi173_xvid.avi          \n",
            "  inflating: fi174_xvid.avi          \n",
            "  inflating: fi175_xvid.avi          \n",
            "  inflating: fi176_xvid.avi          \n",
            "  inflating: fi177_xvid.avi          \n",
            "  inflating: fi178_xvid.avi          \n",
            "  inflating: fi179_xvid.avi          \n",
            "  inflating: fi17_xvid.avi           \n",
            "  inflating: fi180_xvid.avi          \n",
            "  inflating: fi181_xvid.avi          \n",
            "  inflating: fi182_xvid.avi          \n",
            "  inflating: fi183_xvid.avi          \n",
            "  inflating: fi184_xvid.avi          \n",
            "  inflating: fi185_xvid.avi          \n",
            "  inflating: fi186_xvid.avi          \n",
            "  inflating: fi187_xvid.avi          \n",
            "  inflating: fi188_xvid.avi          \n",
            "  inflating: fi189_xvid.avi          \n",
            "  inflating: fi18_xvid.avi           \n",
            "  inflating: fi190_xvid.avi          \n",
            "  inflating: fi191_xvid.avi          \n",
            "  inflating: fi192_xvid.avi          \n",
            "  inflating: fi193_xvid.avi          \n",
            "  inflating: fi194_xvid.avi          \n",
            "  inflating: fi195_xvid.avi          \n",
            "  inflating: fi196_xvid.avi          \n",
            "  inflating: fi197_xvid.avi          \n",
            "  inflating: fi198_xvid.avi          \n",
            "  inflating: fi199_xvid.avi          \n",
            "  inflating: fi19_xvid.avi           \n",
            "  inflating: fi1_xvid.avi            \n",
            "  inflating: fi200_xvid.avi          \n",
            "  inflating: fi201_xvid.avi          \n",
            "  inflating: fi202_xvid.avi          \n",
            "  inflating: fi203_xvid.avi          \n",
            "  inflating: fi204_xvid.avi          \n",
            "  inflating: fi205_xvid.avi          \n",
            "  inflating: fi206_xvid.avi          \n",
            "  inflating: fi207_xvid.avi          \n",
            "  inflating: fi208_xvid.avi          \n",
            "  inflating: fi209_xvid.avi          \n",
            "  inflating: fi20_xvid.avi           \n",
            "  inflating: fi210_xvid.avi          \n",
            "  inflating: fi211_xvid.avi          \n",
            "  inflating: fi212_xvid.avi          \n",
            "  inflating: fi213_xvid.avi          \n",
            "  inflating: fi214_xvid.avi          \n",
            "  inflating: fi215_xvid.avi          \n",
            "  inflating: fi216_xvid.avi          \n",
            "  inflating: fi217_xvid.avi          \n",
            "  inflating: fi218_xvid.avi          \n",
            "  inflating: fi219_xvid.avi          \n",
            "  inflating: fi21_xvid.avi           \n",
            "  inflating: fi220_xvid.avi          \n",
            "  inflating: fi221_xvid.avi          \n",
            "  inflating: fi222_xvid.avi          \n",
            "  inflating: fi223_xvid.avi          \n",
            "  inflating: fi224_xvid.avi          \n",
            "  inflating: fi225_xvid.avi          \n",
            "  inflating: fi226_xvid.avi          \n",
            "  inflating: fi227_xvid.avi          \n",
            "  inflating: fi228_xvid.avi          \n",
            "  inflating: fi229_xvid.avi          \n",
            "  inflating: fi22_xvid.avi           \n",
            "  inflating: fi230_xvid.avi          \n",
            "  inflating: fi231_xvid.avi          \n",
            "  inflating: fi232_xvid.avi          \n",
            "  inflating: fi233_xvid.avi          \n",
            "  inflating: fi234_xvid.avi          \n",
            "  inflating: fi235_xvid.avi          \n",
            "  inflating: fi236_xvid.avi          \n",
            "  inflating: fi237_xvid.avi          \n",
            "  inflating: fi238_xvid.avi          \n",
            "  inflating: fi239_xvid.avi          \n",
            "  inflating: fi23_xvid.avi           \n",
            "  inflating: fi240_xvid.avi          \n",
            "  inflating: fi241_xvid.avi          \n",
            "  inflating: fi242_xvid.avi          \n",
            "  inflating: fi243_xvid.avi          \n",
            "  inflating: fi244_xvid.avi          \n",
            "  inflating: fi245_xvid.avi          \n",
            "  inflating: fi246_xvid.avi          \n",
            "  inflating: fi247_xvid.avi          \n",
            "  inflating: fi248_xvid.avi          \n",
            "  inflating: fi249_xvid.avi          \n",
            "  inflating: fi24_xvid.avi           \n",
            "  inflating: fi250_xvid.avi          \n",
            "  inflating: fi251_xvid.avi          \n",
            "  inflating: fi252_xvid.avi          \n",
            "  inflating: fi253_xvid.avi          \n",
            "  inflating: fi254_xvid.avi          \n",
            "  inflating: fi255_xvid.avi          \n",
            "  inflating: fi256_xvid.avi          \n",
            "  inflating: fi257_xvid.avi          \n",
            "  inflating: fi258_xvid.avi          \n",
            "  inflating: fi259_xvid.avi          \n",
            "  inflating: fi25_xvid.avi           \n",
            "  inflating: fi260_xvid.avi          \n",
            "  inflating: fi261_xvid.avi          \n",
            "  inflating: fi262_xvid.avi          \n",
            "  inflating: fi263_xvid.avi          \n",
            "  inflating: fi264_xvid.avi          \n",
            "  inflating: fi265_xvid.avi          \n",
            "  inflating: fi266_xvid.avi          \n",
            "  inflating: fi267_xvid.avi          \n",
            "  inflating: fi268_xvid.avi          \n",
            "  inflating: fi269_xvid.avi          \n",
            "  inflating: fi26_xvid.avi           \n",
            "  inflating: fi270_xvid.avi          \n",
            "  inflating: fi271_xvid.avi          \n",
            "  inflating: fi272_xvid.avi          \n",
            "  inflating: fi273_xvid.avi          \n",
            "  inflating: fi274_xvid.avi          \n",
            "  inflating: fi275_xvid.avi          \n",
            "  inflating: fi276_xvid.avi          \n",
            "  inflating: fi277_xvid.avi          \n",
            "  inflating: fi278_xvid.avi          \n",
            "  inflating: fi279_xvid.avi          \n",
            "  inflating: fi27_xvid.avi           \n",
            "  inflating: fi280_xvid.avi          \n",
            "  inflating: fi281_xvid.avi          \n",
            "  inflating: fi282_xvid.avi          \n",
            "  inflating: fi283_xvid.avi          \n",
            "  inflating: fi284_xvid.avi          \n",
            "  inflating: fi285_xvid.avi          \n",
            "  inflating: fi286_xvid.avi          \n",
            "  inflating: fi287_xvid.avi          \n",
            "  inflating: fi288_xvid.avi          \n",
            "  inflating: fi289_xvid.avi          \n",
            "  inflating: fi28_xvid.avi           \n",
            "  inflating: fi290_xvid.avi          \n",
            "  inflating: fi291_xvid.avi          \n",
            "  inflating: fi292_xvid.avi          \n",
            "  inflating: fi293_xvid.avi          \n",
            "  inflating: fi294_xvid.avi          \n",
            "  inflating: fi295_xvid.avi          \n",
            "  inflating: fi296_xvid.avi          \n",
            "  inflating: fi297_xvid.avi          \n",
            "  inflating: fi298_xvid.avi          \n",
            "  inflating: fi299_xvid.avi          \n",
            "  inflating: fi29_xvid.avi           \n",
            "  inflating: fi2_xvid.avi            \n",
            "  inflating: fi300_xvid.avi          \n",
            "  inflating: fi301_xvid.avi          \n",
            "  inflating: fi302_xvid.avi          \n",
            "  inflating: fi303_xvid.avi          \n",
            "  inflating: fi304_xvid.avi          \n",
            "  inflating: fi305_xvid.avi          \n",
            "  inflating: fi306_xvid.avi          \n",
            "  inflating: fi307_xvid.avi          \n",
            "  inflating: fi308_xvid.avi          \n",
            "  inflating: fi309_xvid.avi          \n",
            "  inflating: fi30_xvid.avi           \n",
            "  inflating: fi310_xvid.avi          \n",
            "  inflating: fi311_xvid.avi          \n",
            "  inflating: fi312_xvid.avi          \n",
            "  inflating: fi313_xvid.avi          \n",
            "  inflating: fi314_xvid.avi          \n",
            "  inflating: fi315_xvid.avi          \n",
            "  inflating: fi316_xvid.avi          \n",
            "  inflating: fi317_xvid.avi          \n",
            "  inflating: fi318_xvid.avi          \n",
            "  inflating: fi319_xvid.avi          \n",
            "  inflating: fi31_xvid.avi           \n",
            "  inflating: fi320_xvid.avi          \n",
            "  inflating: fi321_xvid.avi          \n",
            "  inflating: fi322_xvid.avi          \n",
            "  inflating: fi323_xvid.avi          \n",
            "  inflating: fi324_xvid.avi          \n",
            "  inflating: fi325_xvid.avi          \n",
            "  inflating: fi326_xvid.avi          \n",
            "  inflating: fi327_xvid.avi          \n",
            "  inflating: fi328_xvid.avi          \n",
            "  inflating: fi329_xvid.avi          \n",
            "  inflating: fi32_xvid.avi           \n",
            "  inflating: fi330_xvid.avi          \n",
            "  inflating: fi331_xvid.avi          \n",
            "  inflating: fi332_xvid.avi          \n",
            "  inflating: fi333_xvid.avi          \n",
            "  inflating: fi334_xvid.avi          \n",
            "  inflating: fi335_xvid.avi          \n",
            "  inflating: fi336_xvid.avi          \n",
            "  inflating: fi337_xvid.avi          \n",
            "  inflating: fi338_xvid.avi          \n",
            "  inflating: fi339_xvid.avi          \n",
            "  inflating: fi33_xvid.avi           \n",
            "  inflating: fi340_xvid.avi          \n",
            "  inflating: fi341_xvid.avi          \n",
            "  inflating: fi342_xvid.avi          \n",
            "  inflating: fi343_xvid.avi          \n",
            "  inflating: fi344_xvid.avi          \n",
            "  inflating: fi345_xvid.avi          \n",
            "  inflating: fi346_xvid.avi          \n",
            "  inflating: fi347_xvid.avi          \n",
            "  inflating: fi348_xvid.avi          \n",
            "  inflating: fi349_xvid.avi          \n",
            "  inflating: fi34_xvid.avi           \n",
            "  inflating: fi350_xvid.avi          \n",
            "  inflating: fi351_xvid.avi          \n",
            "  inflating: fi352_xvid.avi          \n",
            "  inflating: fi353_xvid.avi          \n",
            "  inflating: fi354_xvid.avi          \n",
            "  inflating: fi355_xvid.avi          \n",
            "  inflating: fi356_xvid.avi          \n",
            "  inflating: fi357_xvid.avi          \n",
            "  inflating: fi358_xvid.avi          \n",
            "  inflating: fi359_xvid.avi          \n",
            "  inflating: fi35_xvid.avi           \n",
            "  inflating: fi360_xvid.avi          \n",
            "  inflating: fi361_xvid.avi          \n",
            "  inflating: fi362_xvid.avi          \n",
            "  inflating: fi363_xvid.avi          \n",
            "  inflating: fi364_xvid.avi          \n",
            "  inflating: fi365_xvid.avi          \n",
            "  inflating: fi366_xvid.avi          \n",
            "  inflating: fi367_xvid.avi          \n",
            "  inflating: fi368_xvid.avi          \n",
            "  inflating: fi369_xvid.avi          \n",
            "  inflating: fi36_xvid.avi           \n",
            "  inflating: fi370_xvid.avi          \n",
            "  inflating: fi371_xvid.avi          \n",
            "  inflating: fi372_xvid.avi          \n",
            "  inflating: fi373_xvid.avi          \n",
            "  inflating: fi374_xvid.avi          \n",
            "  inflating: fi375_xvid.avi          \n",
            "  inflating: fi376_xvid.avi          \n",
            "  inflating: fi377_xvid.avi          \n",
            "  inflating: fi378_xvid.avi          \n",
            "  inflating: fi379_xvid.avi          \n",
            "  inflating: fi37_xvid.avi           \n",
            "  inflating: fi380_xvid.avi          \n",
            "  inflating: fi381_xvid.avi          \n",
            "  inflating: fi382_xvid.avi          \n",
            "  inflating: fi383_xvid.avi          \n",
            "  inflating: fi384_xvid.avi          \n",
            "  inflating: fi385_xvid.avi          \n",
            "  inflating: fi386_xvid.avi          \n",
            "  inflating: fi387_xvid.avi          \n",
            "  inflating: fi388_xvid.avi          \n",
            "  inflating: fi389_xvid.avi          \n",
            "  inflating: fi38_xvid.avi           \n",
            "  inflating: fi390_xvid.avi          \n",
            "  inflating: fi391_xvid.avi          \n",
            "  inflating: fi392_xvid.avi          \n",
            "  inflating: fi393_xvid.avi          \n",
            "  inflating: fi394_xvid.avi          \n",
            "  inflating: fi395_xvid.avi          \n",
            "  inflating: fi396_xvid.avi          \n",
            "  inflating: fi397_xvid.avi          \n",
            "  inflating: fi398_xvid.avi          \n",
            "  inflating: fi399_xvid.avi          \n",
            "  inflating: fi39_xvid.avi           \n",
            "  inflating: fi3_xvid.avi            \n",
            "  inflating: fi400_xvid.avi          \n",
            "  inflating: fi401_xvid.avi          \n",
            "  inflating: fi402_xvid.avi          \n",
            "  inflating: fi403_xvid.avi          \n",
            "  inflating: fi404_xvid.avi          \n",
            "  inflating: fi405_xvid.avi          \n",
            "  inflating: fi406_xvid.avi          \n",
            "  inflating: fi407_xvid.avi          \n",
            "  inflating: fi408_xvid.avi          \n",
            "  inflating: fi409_xvid.avi          \n",
            "  inflating: fi40_xvid.avi           \n",
            "  inflating: fi410_xvid.avi          \n",
            "  inflating: fi411_xvid.avi          \n",
            "  inflating: fi412_xvid.avi          \n",
            "  inflating: fi413_xvid.avi          \n",
            "  inflating: fi414_xvid.avi          \n",
            "  inflating: fi415_xvid.avi          \n",
            "  inflating: fi416_xvid.avi          \n",
            "  inflating: fi417_xvid.avi          \n",
            "  inflating: fi418_xvid.avi          \n",
            "  inflating: fi419_xvid.avi          \n",
            "  inflating: fi41_xvid.avi           \n",
            "  inflating: fi420_xvid.avi          \n",
            "  inflating: fi421_xvid.avi          \n",
            "  inflating: fi422_xvid.avi          \n",
            "  inflating: fi423_xvid.avi          \n",
            "  inflating: fi424_xvid.avi          \n",
            "  inflating: fi425_xvid.avi          \n",
            "  inflating: fi426_xvid.avi          \n",
            "  inflating: fi427_xvid.avi          \n",
            "  inflating: fi428_xvid.avi          \n",
            "  inflating: fi429_xvid.avi          \n",
            "  inflating: fi42_xvid.avi           \n",
            "  inflating: fi430_xvid.avi          \n",
            "  inflating: fi431_xvid.avi          \n",
            "  inflating: fi432_xvid.avi          \n",
            "  inflating: fi433_xvid.avi          \n",
            "  inflating: fi434_xvid.avi          \n",
            "  inflating: fi435_xvid.avi          \n",
            "  inflating: fi436_xvid.avi          \n",
            "  inflating: fi437_xvid.avi          \n",
            "  inflating: fi438_xvid.avi          \n",
            "  inflating: fi439_xvid.avi          \n",
            "  inflating: fi43_xvid.avi           \n",
            "  inflating: fi440_xvid.avi          \n",
            "  inflating: fi441_xvid.avi          \n",
            "  inflating: fi442_xvid.avi          \n",
            "  inflating: fi443_xvid.avi          \n",
            "  inflating: fi444_xvid.avi          \n",
            "  inflating: fi445_xvid.avi          \n",
            "  inflating: fi446_xvid.avi          \n",
            "  inflating: fi447_xvid.avi          \n",
            "  inflating: fi448_xvid.avi          \n",
            "  inflating: fi449_xvid.avi          \n",
            "  inflating: fi44_xvid.avi           \n",
            "  inflating: fi450_xvid.avi          \n",
            "  inflating: fi451_xvid.avi          \n",
            "  inflating: fi452_xvid.avi          \n",
            "  inflating: fi453_xvid.avi          \n",
            "  inflating: fi454_xvid.avi          \n",
            "  inflating: fi455_xvid.avi          \n",
            "  inflating: fi456_xvid.avi          \n",
            "  inflating: fi457_xvid.avi          \n",
            "  inflating: fi458_xvid.avi          \n",
            "  inflating: fi459_xvid.avi          \n",
            "  inflating: fi45_xvid.avi           \n",
            "  inflating: fi460_xvid.avi          \n",
            "  inflating: fi461_xvid.avi          \n",
            "  inflating: fi462_xvid.avi          \n",
            "  inflating: fi463_xvid.avi          \n",
            "  inflating: fi464_xvid.avi          \n",
            "  inflating: fi465_xvid.avi          \n",
            "  inflating: fi466_xvid.avi          \n",
            "  inflating: fi467_xvid.avi          \n",
            "  inflating: fi468_xvid.avi          \n",
            "  inflating: fi469_xvid.avi          \n",
            "  inflating: fi46_xvid.avi           \n",
            "  inflating: fi470_xvid.avi          \n",
            "  inflating: fi471_xvid.avi          \n",
            "  inflating: fi472_xvid.avi          \n",
            "  inflating: fi473_xvid.avi          \n",
            "  inflating: fi474_xvid.avi          \n",
            "  inflating: fi475_xvid.avi          \n",
            "  inflating: fi476_xvid.avi          \n",
            "  inflating: fi477_xvid.avi          \n",
            "  inflating: fi478_xvid.avi          \n",
            "  inflating: fi479_xvid.avi          \n",
            "  inflating: fi47_xvid.avi           \n",
            "  inflating: fi480_xvid.avi          \n",
            "  inflating: fi481_xvid.avi          \n",
            "  inflating: fi482_xvid.avi          \n",
            "  inflating: fi483_xvid.avi          \n",
            "  inflating: fi484_xvid.avi          \n",
            "  inflating: fi485_xvid.avi          \n",
            "  inflating: fi486_xvid.avi          \n",
            "  inflating: fi487_xvid.avi          \n",
            "  inflating: fi488_xvid.avi          \n",
            "  inflating: fi489_xvid.avi          \n",
            "  inflating: fi48_xvid.avi           \n",
            "  inflating: fi490_xvid.avi          \n",
            "  inflating: fi491_xvid.avi          \n",
            "  inflating: fi492_xvid.avi          \n",
            "  inflating: fi493_xvid.avi          \n",
            "  inflating: fi494_xvid.avi          \n",
            "  inflating: fi495_xvid.avi          \n",
            "  inflating: fi496_xvid.avi          \n",
            "  inflating: fi497_xvid.avi          \n",
            "  inflating: fi498_xvid.avi          \n",
            "  inflating: fi499_xvid.avi          \n",
            "  inflating: fi49_xvid.avi           \n",
            "  inflating: fi4_xvid.avi            \n",
            "  inflating: fi500_xvid.avi          \n",
            "  inflating: fi50_xvid.avi           \n",
            "  inflating: fi51_xvid.avi           \n",
            "  inflating: fi52_xvid.avi           \n",
            "  inflating: fi53_xvid.avi           \n",
            "  inflating: fi54_xvid.avi           \n",
            "  inflating: fi55_xvid.avi           \n",
            "  inflating: fi56_xvid.avi           \n",
            "  inflating: fi57_xvid.avi           \n",
            "  inflating: fi58_xvid.avi           \n",
            "  inflating: fi59_xvid.avi           \n",
            "  inflating: fi5_xvid.avi            \n",
            "  inflating: fi60_xvid.avi           \n",
            "  inflating: fi61_xvid.avi           \n",
            "  inflating: fi62_xvid.avi           \n",
            "  inflating: fi63_xvid.avi           \n",
            "  inflating: fi64_xvid.avi           \n",
            "  inflating: fi65_xvid.avi           \n",
            "  inflating: fi66_xvid.avi           \n",
            "  inflating: fi67_xvid.avi           \n",
            "  inflating: fi68_xvid.avi           \n",
            "  inflating: fi69_xvid.avi           \n",
            "  inflating: fi6_xvid.avi            \n",
            "  inflating: fi70_xvid.avi           \n",
            "  inflating: fi71_xvid.avi           \n",
            "  inflating: fi72_xvid.avi           \n",
            "  inflating: fi73_xvid.avi           \n",
            "  inflating: fi74_xvid.avi           \n",
            "  inflating: fi75_xvid.avi           \n",
            "  inflating: fi76_xvid.avi           \n",
            "  inflating: fi77_xvid.avi           \n",
            "  inflating: fi78_xvid.avi           \n",
            "  inflating: fi79_xvid.avi           \n",
            "  inflating: fi7_xvid.avi            \n",
            "  inflating: fi80_xvid.avi           \n",
            "  inflating: fi81_xvid.avi           \n",
            "  inflating: fi82_xvid.avi           \n",
            "  inflating: fi83_xvid.avi           \n",
            "  inflating: fi84_xvid.avi           \n",
            "  inflating: fi85_xvid.avi           \n",
            "  inflating: fi86_xvid.avi           \n",
            "  inflating: fi87_xvid.avi           \n",
            "  inflating: fi88_xvid.avi           \n",
            "  inflating: fi89_xvid.avi           \n",
            "  inflating: fi8_xvid.avi            \n",
            "  inflating: fi90_xvid.avi           \n",
            "  inflating: fi91_xvid.avi           \n",
            "  inflating: fi92_xvid.avi           \n",
            "  inflating: fi93_xvid.avi           \n",
            "  inflating: fi94_xvid.avi           \n",
            "  inflating: fi95_xvid.avi           \n",
            "  inflating: fi96_xvid.avi           \n",
            "  inflating: fi97_xvid.avi           \n",
            "  inflating: fi98_xvid.avi           \n",
            "  inflating: fi99_xvid.avi           \n",
            "  inflating: fi9_xvid.avi            \n",
            "  inflating: newfi1.avi              \n",
            "  inflating: newfi10.avi             \n",
            "  inflating: newfi100.avi            \n",
            "  inflating: newfi11.avi             \n",
            "  inflating: newfi12.avi             \n",
            "  inflating: newfi13.avi             \n",
            "  inflating: newfi14.avi             \n",
            "  inflating: newfi15.avi             \n",
            "  inflating: newfi16.avi             \n",
            "  inflating: newfi17.avi             \n",
            "  inflating: newfi18.avi             \n",
            "  inflating: newfi19.avi             \n",
            "  inflating: newfi2.avi              \n",
            "  inflating: newfi20.avi             \n",
            "  inflating: newfi21.avi             \n",
            "  inflating: newfi22.avi             \n",
            "  inflating: newfi23.avi             \n",
            "  inflating: newfi24.avi             \n",
            "  inflating: newfi25.avi             \n",
            "  inflating: newfi26.avi             \n",
            "  inflating: newfi27.avi             \n",
            "  inflating: newfi28.avi             \n",
            "  inflating: newfi29.avi             \n",
            "  inflating: newfi3.avi              \n",
            "  inflating: newfi30.avi             \n",
            "  inflating: newfi31.avi             \n",
            "  inflating: newfi32.avi             \n",
            "  inflating: newfi33.avi             \n",
            "  inflating: newfi34.avi             \n",
            "  inflating: newfi35.avi             \n",
            "  inflating: newfi36.avi             \n",
            "  inflating: newfi37.avi             \n",
            "  inflating: newfi38.avi             \n",
            "  inflating: newfi39.avi             \n",
            "  inflating: newfi4.avi              \n",
            "  inflating: newfi40.avi             \n",
            "  inflating: newfi41.avi             \n",
            "  inflating: newfi42.avi             \n",
            "  inflating: newfi43.avi             \n",
            "  inflating: newfi44.avi             \n",
            "  inflating: newfi45.avi             \n",
            "  inflating: newfi46.avi             \n",
            "  inflating: newfi47.avi             \n",
            "  inflating: newfi48.avi             \n",
            "  inflating: newfi49.avi             \n",
            "  inflating: newfi5.avi              \n",
            "  inflating: newfi50.avi             \n",
            "  inflating: newfi51.avi             \n",
            "  inflating: newfi52.avi             \n",
            "  inflating: newfi53.avi             \n",
            "  inflating: newfi54.avi             \n",
            "  inflating: newfi55.avi             \n",
            "  inflating: newfi56.avi             \n",
            "  inflating: newfi57.avi             \n",
            "  inflating: newfi58.avi             \n",
            "  inflating: newfi59.avi             \n",
            "  inflating: newfi6.avi              \n",
            "  inflating: newfi60.avi             \n",
            "  inflating: newfi61.avi             \n",
            "  inflating: newfi62.avi             \n",
            "  inflating: newfi63.avi             \n",
            "  inflating: newfi64.avi             \n",
            "  inflating: newfi65.avi             \n",
            "  inflating: newfi66.avi             \n",
            "  inflating: newfi67.avi             \n",
            "  inflating: newfi68.avi             \n",
            "  inflating: newfi69.avi             \n",
            "  inflating: newfi7.avi              \n",
            "  inflating: newfi70.avi             \n",
            "  inflating: newfi71.avi             \n",
            "  inflating: newfi72.avi             \n",
            "  inflating: newfi73.avi             \n",
            "  inflating: newfi74avi.avi          \n",
            "  inflating: newfi75.avi             \n",
            "  inflating: newfi76.avi             \n",
            "  inflating: newfi77.avi             \n",
            "  inflating: newfi78.avi             \n",
            "  inflating: newfi79.avi             \n",
            "  inflating: newfi8.avi              \n",
            "  inflating: newfi80.avi             \n",
            "  inflating: newfi81.avi             \n",
            "  inflating: newfi82.avi             \n",
            "  inflating: newfi83.avi             \n",
            "  inflating: newfi84.avi             \n",
            "  inflating: newfi85.avi             \n",
            "  inflating: newfi86.avi             \n",
            "  inflating: newfi87.avi             \n",
            "  inflating: newfi88.avi             \n",
            "  inflating: newfi89.avi             \n",
            "  inflating: newfi9.avi              \n",
            "  inflating: newfi90.avi             \n",
            "  inflating: newfi91.avi             \n",
            "  inflating: newfi92.avi             \n",
            "  inflating: newfi93.avi             \n",
            "  inflating: newfi94.avi             \n",
            "  inflating: newfi95.avi             \n",
            "  inflating: newfi96.avi             \n",
            "  inflating: newfi97.avi             \n",
            "  inflating: newfi98.avi             \n",
            "  inflating: newfi99.avi             \n",
            "  inflating: no100_xvid.avi          \n",
            "  inflating: no101_xvid.avi          \n",
            "  inflating: no102_xvid.avi          \n",
            "  inflating: no103_xvid.avi          \n",
            "  inflating: no104_xvid.avi          \n",
            "  inflating: no105_xvid.avi          \n",
            "  inflating: no106_xvid.avi          \n",
            "  inflating: no107_xvid.avi          \n",
            "  inflating: no108_xvid.avi          \n",
            "  inflating: no109_xvid.avi          \n",
            "  inflating: no10_xvid.avi           \n",
            "  inflating: no110_xvid.avi          \n",
            "  inflating: no111_xvid.avi          \n",
            "  inflating: no112_xvid.avi          \n",
            "  inflating: no113_xvid.avi          \n",
            "  inflating: no114_xvid.avi          \n",
            "  inflating: no115_xvid.avi          \n",
            "  inflating: no116_xvid.avi          \n",
            "  inflating: no117_xvid.avi          \n",
            "  inflating: no118_xvid.avi          \n",
            "  inflating: no119_xvid.avi          \n",
            "  inflating: no11_xvid.avi           \n",
            "  inflating: no120_xvid.avi          \n",
            "  inflating: no121_xvid.avi          \n",
            "  inflating: no122_xvid.avi          \n",
            "  inflating: no123_xvid.avi          \n",
            "  inflating: no124_xvid.avi          \n",
            "  inflating: no125_xvid.avi          \n",
            "  inflating: no126_xvid.avi          \n",
            "  inflating: no127_xvid.avi          \n",
            "  inflating: no128_xvid.avi          \n",
            "  inflating: no129_xvid.avi          \n",
            "  inflating: no12_xvid.avi           \n",
            "  inflating: no130_xvid.avi          \n",
            "  inflating: no131_xvid.avi          \n",
            "  inflating: no132_xvid.avi          \n",
            "  inflating: no133_xvid.avi          \n",
            "  inflating: no134_xvid.avi          \n",
            "  inflating: no135_xvid.avi          \n",
            "  inflating: no136_xvid.avi          \n",
            "  inflating: no137_xvid.avi          \n",
            "  inflating: no138_xvid.avi          \n",
            "  inflating: no139_xvid.avi          \n",
            "  inflating: no13_xvid.avi           \n",
            "  inflating: no140_xvid.avi          \n",
            "  inflating: no141_xvid.avi          \n",
            "  inflating: no142__xvid.avi         \n",
            "  inflating: no143_xvid.avi          \n",
            "  inflating: no144_xvid.avi          \n",
            "  inflating: no145_xvid.avi          \n",
            "  inflating: no146_xvid.avi          \n",
            "  inflating: no147_xvid.avi          \n",
            "  inflating: no148_xvid.avi          \n",
            "  inflating: no149_xvid.avi          \n",
            "  inflating: no14_xvid.avi           \n",
            "  inflating: no150_xvid.avi          \n",
            "  inflating: no151_xvid.avi          \n",
            "  inflating: no152_xvid.avi          \n",
            "  inflating: no153_xvid.avi          \n",
            "  inflating: no154_xvid.avi          \n",
            "  inflating: no155_xvid.avi          \n",
            "  inflating: no156_xvid.avi          \n",
            "  inflating: no157_xvid.avi          \n",
            "  inflating: no158_xvid.avi          \n",
            "  inflating: no159_xvid.avi          \n",
            "  inflating: no15_xvid.avi           \n",
            "  inflating: no160_xvid.avi          \n",
            "  inflating: no161_xvid.avi          \n",
            "  inflating: no162_xvid.avi          \n",
            "  inflating: no163_xvid.avi          \n",
            "  inflating: no164_xvid.avi          \n",
            "  inflating: no165_xvid.avi          \n",
            "  inflating: no166_xvid.avi          \n",
            "  inflating: no167_xvid.avi          \n",
            "  inflating: no168_xvid.avi          \n",
            "  inflating: no169_xvid.avi          \n",
            "  inflating: no16_xvid.avi           \n",
            "  inflating: no170_xvid.avi          \n",
            "  inflating: no171_xvid.avi          \n",
            "  inflating: no172_xvid.avi          \n",
            "  inflating: no173_xvid.avi          \n",
            "  inflating: no174_xvid.avi          \n",
            "  inflating: no175_xvid.avi          \n",
            "  inflating: no176_xvid.avi          \n",
            "  inflating: no177_xvid.avi          \n",
            "  inflating: no178_xvid.avi          \n",
            "  inflating: no179_xvid.avi          \n",
            "  inflating: no17_xvid.avi           \n",
            "  inflating: no180_xvid.avi          \n",
            "  inflating: no181_xvid.avi          \n",
            "  inflating: no182_xvid.avi          \n",
            "  inflating: no183_xvid.avi          \n",
            "  inflating: no184_xvid.avi          \n",
            "  inflating: no185_xvid.avi          \n",
            "  inflating: no186_xvid.avi          \n",
            "  inflating: no187_xvid.avi          \n",
            "  inflating: no188_xvid.avi          \n",
            "  inflating: no189_xvid.avi          \n",
            "  inflating: no18_xvid.avi           \n",
            "  inflating: no190_xvid.avi          \n",
            "  inflating: no191_xvid.avi          \n",
            "  inflating: no192_xvid.avi          \n",
            "  inflating: no193_xvid.avi          \n",
            "  inflating: no194_xvid.avi          \n",
            "  inflating: no195_xvid.avi          \n",
            "  inflating: no196_xvid.avi          \n",
            "  inflating: no197_xvid.avi          \n",
            "  inflating: no198_xvid.avi          \n",
            "  inflating: no199_xvid.avi          \n",
            "  inflating: no19_xvid.avi           \n",
            "  inflating: no1_xvid.avi            \n",
            "  inflating: no200_xvid.avi          \n",
            "  inflating: no201_xvid.avi          \n",
            "  inflating: no202_xvid.avi          \n",
            "  inflating: no203_xvid.avi          \n",
            "  inflating: no204_xvid.avi          \n",
            "  inflating: no205_xvid.avi          \n",
            "  inflating: no206_xvid.avi          \n",
            "  inflating: no207_xvid.avi          \n",
            "  inflating: no208_xvid.avi          \n",
            "  inflating: no209_xvid.avi          \n",
            "  inflating: no20_xvid.avi           \n",
            "  inflating: no210_xvid.avi          \n",
            "  inflating: no211_xvid.avi          \n",
            "  inflating: no212_xvid.avi          \n",
            "  inflating: no213_xvid.avi          \n",
            "  inflating: no214_xvid.avi          \n",
            "  inflating: no215_xvid.avi          \n",
            "  inflating: no216_xvid.avi          \n",
            "  inflating: no217_xvid.avi          \n",
            "  inflating: no218_xvid.avi          \n",
            "  inflating: no219_xvid.avi          \n",
            "  inflating: no21_xvid.avi           \n",
            "  inflating: no220_xvid.avi          \n",
            "  inflating: no221_xvid.avi          \n",
            "  inflating: no222_xvid.avi          \n",
            "  inflating: no223_xvid.avi          \n",
            "  inflating: no224_xvid.avi          \n",
            "  inflating: no225_xvid.avi          \n",
            "  inflating: no226_xvid.avi          \n",
            "  inflating: no227_xvid.avi          \n",
            "  inflating: no228_xvid.avi          \n",
            "  inflating: no229_xvid.avi          \n",
            "  inflating: no22_xvid.avi           \n",
            "  inflating: no230_xvid.avi          \n",
            "  inflating: no231_xvid.avi          \n",
            "  inflating: no232_xvid.avi          \n",
            "  inflating: no233_xvid.avi          \n",
            "  inflating: no234_xvid.avi          \n",
            "  inflating: no235_xvid.avi          \n",
            "  inflating: no236_xvid.avi          \n",
            "  inflating: no237_xvid.avi          \n",
            "  inflating: no238mpg_xvid.avi       \n",
            "  inflating: no239_xvid.avi          \n",
            "  inflating: no23_xvid.avi           \n",
            "  inflating: no240_xvid.avi          \n",
            "  inflating: no241_xvid.avi          \n",
            "  inflating: no242_xvid.avi          \n",
            "  inflating: no243_xvid.avi          \n",
            "  inflating: no244_xvid.avi          \n",
            "  inflating: no245_xvid.avi          \n",
            "  inflating: no246_xvid.avi          \n",
            "  inflating: no247_xvid.avi          \n",
            "  inflating: no248_xvid.avi          \n",
            "  inflating: no249_xvid.avi          \n",
            "  inflating: no24_xvid.avi           \n",
            "  inflating: no250_xvid.avi          \n",
            "  inflating: no251_xvid.avi          \n",
            "  inflating: no252_xvid.avi          \n",
            "  inflating: no253_xvid.avi          \n",
            "  inflating: no254_xvid.avi          \n",
            "  inflating: no255_xvid.avi          \n",
            "  inflating: no256_xvid.avi          \n",
            "  inflating: no257_xvid.avi          \n",
            "  inflating: no258_xvid.avi          \n",
            "  inflating: no259_xvid.avi          \n",
            "  inflating: no25_xvid.avi           \n",
            "  inflating: no260_xvid.avi          \n",
            "  inflating: no261_xvid.avi          \n",
            "  inflating: no262_xvid.avi          \n",
            "  inflating: no263_xvid.avi          \n",
            "  inflating: no264_xvid.avi          \n",
            "  inflating: no265_xvid.avi          \n",
            "  inflating: no266_xvid.avi          \n",
            "  inflating: no267_xvid.avi          \n",
            "  inflating: no268_xvid.avi          \n",
            "  inflating: no269_xvid.avi          \n",
            "  inflating: no26_xvid.avi           \n",
            "  inflating: no270_xvid.avi          \n",
            "  inflating: no271_xvid.avi          \n",
            "  inflating: no272_xvid.avi          \n",
            "  inflating: no273_xvid.avi          \n",
            "  inflating: no274_xvid.avi          \n",
            "  inflating: no275_xvid.avi          \n",
            "  inflating: no276_xvid.avi          \n",
            "  inflating: no277_xvid.avi          \n",
            "  inflating: no278_xvid.avi          \n",
            "  inflating: no279_xvid.avi          \n",
            "  inflating: no27_xvid.avi           \n",
            "  inflating: no280_xvid.avi          \n",
            "  inflating: no281_xvid.avi          \n",
            "  inflating: no282_xvid.avi          \n",
            "  inflating: no283_xvid.avi          \n",
            "  inflating: no284_xvid.avi          \n",
            "  inflating: no285_xvid.avi          \n",
            "  inflating: no286_xvid.avi          \n",
            "  inflating: no287_xvid.avi          \n",
            "  inflating: no288_xvid.avi          \n",
            "  inflating: no289_xvid.avi          \n",
            "  inflating: no28_xvid.avi           \n",
            "  inflating: no290_xvid.avi          \n",
            "  inflating: no291_xvid.avi          \n",
            "  inflating: no292_xvid.avi          \n",
            "  inflating: no293_xvid.avi          \n",
            "  inflating: no294_xvid.avi          \n",
            "  inflating: no295_xvid.avi          \n",
            "  inflating: no296_xvid.avi          \n",
            "  inflating: no297_xvid.avi          \n",
            "  inflating: no298_xvid.avi          \n",
            "  inflating: no299_xvid.avi          \n",
            "  inflating: no29_xvid.avi           \n",
            "  inflating: no2_xvid.avi            \n",
            "  inflating: no300_xvid.avi          \n",
            "  inflating: no301_xvid.avi          \n",
            "  inflating: no302_xvid.avi          \n",
            "  inflating: no303_xvid.avi          \n",
            "  inflating: no304_xvid.avi          \n",
            "  inflating: no305_xvid.avi          \n",
            "  inflating: no306_xvid.avi          \n",
            "  inflating: no307_xvid.avi          \n",
            "  inflating: no308_xvid.avi          \n",
            "  inflating: no309_xvid.avi          \n",
            "  inflating: no30_xvid.avi           \n",
            "  inflating: no310_xvid.avi          \n",
            "  inflating: no311_xvid.avi          \n",
            "  inflating: no312_xvid.avi          \n",
            "  inflating: no313_xvid.avi          \n",
            "  inflating: no314_xvid.avi          \n",
            "  inflating: no315_xvid.avi          \n",
            "  inflating: no316_xvid.avi          \n",
            "  inflating: no317_xvid.avi          \n",
            "  inflating: no318_xvid.avi          \n",
            "  inflating: no319_xvid.avi          \n",
            "  inflating: no31_xvid.avi           \n",
            "  inflating: no320_xvid.avi          \n",
            "  inflating: no321_xvid.avi          \n",
            "  inflating: no322_xvid.avi          \n",
            "  inflating: no323_xvid.avi          \n",
            "  inflating: no324_xvid.avi          \n",
            "  inflating: no325_xvid.avi          \n",
            "  inflating: no326_xvid.avi          \n",
            "  inflating: no327_xvid.avi          \n",
            "  inflating: no328_xvid.avi          \n",
            "  inflating: no329_xvid.avi          \n",
            "  inflating: no32_xvid.avi           \n",
            "  inflating: no330_xvid.avi          \n",
            "  inflating: no331_xvid.avi          \n",
            "  inflating: no332_xvid.avi          \n",
            "  inflating: no333_xvid.avi          \n",
            "  inflating: no334_xvid.avi          \n",
            "  inflating: no335_xvid.avi          \n",
            "  inflating: no336_xvid.avi          \n",
            "  inflating: no337_xvid.avi          \n",
            "  inflating: no338_xvid.avi          \n",
            "  inflating: no339_xvid.avi          \n",
            "  inflating: no33_xvid.avi           \n",
            "  inflating: no340_xvid.avi          \n",
            "  inflating: no341_xvid.avi          \n",
            "  inflating: no342_xvid.avi          \n",
            "  inflating: no343_xvid.avi          \n",
            "  inflating: no344_xvid.avi          \n",
            "  inflating: no345_xvid.avi          \n",
            "  inflating: no346_xvid.avi          \n",
            "  inflating: no347_xvid.avi          \n",
            "  inflating: no348_xvid.avi          \n",
            "  inflating: no349_xvid.avi          \n",
            "  inflating: no34_xvid.avi           \n",
            "  inflating: no350_xvid.avi          \n",
            "  inflating: no351_xvid.avi          \n",
            "  inflating: no352_xvid.avi          \n",
            "  inflating: no353_xvid.avi          \n",
            "  inflating: no354_xvid.avi          \n",
            "  inflating: no355_xvid.avi          \n",
            "  inflating: no356_xvid.avi          \n",
            "  inflating: no357_xvid.avi          \n",
            "  inflating: no358_xvid.avi          \n",
            "  inflating: no359_xvid.avi          \n",
            "  inflating: no35_xvid.avi           \n",
            "  inflating: no360_xvid.avi          \n",
            "  inflating: no361_xvid.avi          \n",
            "  inflating: no362_xvid.avi          \n",
            "  inflating: no363_xvid.avi          \n",
            "  inflating: no364_xvid.avi          \n",
            "  inflating: no365_xvid.avi          \n",
            "  inflating: no366_xvid.avi          \n",
            "  inflating: no367_xvid.avi          \n",
            "  inflating: no368_xvid.avi          \n",
            "  inflating: no369_xvid.avi          \n",
            "  inflating: no36_xvid.avi           \n",
            "  inflating: no370_xvid.avi          \n",
            "  inflating: no371_xvid.avi          \n",
            "  inflating: no372_xvid.avi          \n",
            "  inflating: no373_xvid.avi          \n",
            "  inflating: no374_xvid.avi          \n",
            "  inflating: no375_xvid.avi          \n",
            "  inflating: no376_xvid.avi          \n",
            "  inflating: no377_xvid.avi          \n",
            "  inflating: no378_xvid.avi          \n",
            "  inflating: no379_xvid.avi          \n",
            "  inflating: no37_xvid.avi           \n",
            "  inflating: no380_xvid.avi          \n",
            "  inflating: no381_xvid.avi          \n",
            "  inflating: no382_xvid.avi          \n",
            "  inflating: no383_xvid.avi          \n",
            "  inflating: no384_xvid.avi          \n",
            "  inflating: no385_xvid.avi          \n",
            "  inflating: no386_xvid.avi          \n",
            "  inflating: no387_xvid.avi          \n",
            "  inflating: no388_xvid.avi          \n",
            "  inflating: no389_xvid.avi          \n",
            "  inflating: no38_xvid.avi           \n",
            "  inflating: no390_xvid.avi          \n",
            "  inflating: no391_xvid.avi          \n",
            "  inflating: no392_xvid.avi          \n",
            "  inflating: no393_xvid.avi          \n",
            "  inflating: no394_xvid.avi          \n",
            "  inflating: no395_xvid.avi          \n",
            "  inflating: no396_xvid.avi          \n",
            "  inflating: no397_xvid.avi          \n",
            "  inflating: no398_xvid.avi          \n",
            "  inflating: no399_xvid.avi          \n",
            "  inflating: no39_xvid.avi           \n",
            "  inflating: no3_xvid.avi            \n",
            "  inflating: no400_xvid.avi          \n",
            "  inflating: no401_xvid.avi          \n",
            "  inflating: no402_xvid.avi          \n",
            "  inflating: no403_xvid.avi          \n",
            "  inflating: no404_xvid.avi          \n",
            "  inflating: no405_xvid.avi          \n",
            "  inflating: no406_xvid.avi          \n",
            "  inflating: no407_xvid.avi          \n",
            "  inflating: no408_xvid.avi          \n",
            "  inflating: no409_xvid.avi          \n",
            "  inflating: no40_xvid.avi           \n",
            "  inflating: no410_xvid.avi          \n",
            "  inflating: no411_xvid.avi          \n",
            "  inflating: no412_xvid.avi          \n",
            "  inflating: no413_xvid.avi          \n",
            "  inflating: no414_xvid.avi          \n",
            "  inflating: no415_xvid.avi          \n",
            "  inflating: no416_xvid.avi          \n",
            "  inflating: no417_xvid.avi          \n",
            "  inflating: no418_xvid.avi          \n",
            "  inflating: no419_xvid.avi          \n",
            "  inflating: no41_xvid.avi           \n",
            "  inflating: no420_xvid.avi          \n",
            "  inflating: no421_xvid.avi          \n",
            "  inflating: no422_xvid.avi          \n",
            "  inflating: no423_xvid.avi          \n",
            "  inflating: no424_xvid.avi          \n",
            "  inflating: no425_xvid.avi          \n",
            "  inflating: no426_xvid.avi          \n",
            "  inflating: no427_xvid.avi          \n",
            "  inflating: no428_xvid.avi          \n",
            "  inflating: no429_xvid.avi          \n",
            "  inflating: no42_xvid.avi           \n",
            "  inflating: no430_xvid.avi          \n",
            "  inflating: no431_xvid.avi          \n",
            "  inflating: no432_xvid.avi          \n",
            "  inflating: no433_xvid.avi          \n",
            "  inflating: no434_xvid.avi          \n",
            "  inflating: no435_xvid.avi          \n",
            "  inflating: no436_xvid.avi          \n",
            "  inflating: no437_xvid.avi          \n",
            "  inflating: no438_xvid.avi          \n",
            "  inflating: no439_xvid.avi          \n",
            "  inflating: no43_xvid.avi           \n",
            "  inflating: no440_xvid.avi          \n",
            "  inflating: no441_xvid.avi          \n",
            "  inflating: no442_xvid.avi          \n",
            "  inflating: no443_xvid.avi          \n",
            "  inflating: no444_xvid.avi          \n",
            "  inflating: no445_xvid.avi          \n",
            "  inflating: no446_xvid.avi          \n",
            "  inflating: no447_xvid.avi          \n",
            "  inflating: no448_xvid.avi          \n",
            "  inflating: no449_xvid.avi          \n",
            "  inflating: no44_xvid.avi           \n",
            "  inflating: no450_xvid.avi          \n",
            "  inflating: no451_xvid.avi          \n",
            "  inflating: no452_xvid.avi          \n",
            "  inflating: no453_xvid.avi          \n",
            "  inflating: no454_xvid.avi          \n",
            "  inflating: no455_xvid.avi          \n",
            "  inflating: no456_xvid.avi          \n",
            "  inflating: no457_xvid.avi          \n",
            "  inflating: no458_xvid.avi          \n",
            "  inflating: no459_xvid.avi          \n",
            "  inflating: no45_xvid.avi           \n",
            "  inflating: no460_xvid.avi          \n",
            "  inflating: no461_xvid.avi          \n",
            "  inflating: no462_xvid.avi          \n",
            "  inflating: no463_xvid.avi          \n",
            "  inflating: no464_xvid.avi          \n",
            "  inflating: no465_xvid.avi          \n",
            "  inflating: no466_xvid.avi          \n",
            "  inflating: no467_xvid.avi          \n",
            "  inflating: no468_xvid.avi          \n",
            "  inflating: no469_xvid.avi          \n",
            "  inflating: no46_xvid.avi           \n",
            "  inflating: no470_xvid.avi          \n",
            "  inflating: no471_xvid.avi          \n",
            "  inflating: no472_xvid.avi          \n",
            "  inflating: no473_xvid.avi          \n",
            "  inflating: no474_xvid.avi          \n",
            "  inflating: no475_xvid.avi          \n",
            "  inflating: no476_xvid.avi          \n",
            "  inflating: no477_xvid.avi          \n",
            "  inflating: no478_xvid.avi          \n",
            "  inflating: no479_xvid.avi          \n",
            "  inflating: no47_xvid.avi           \n",
            "  inflating: no480_xvid.avi          \n",
            "  inflating: no481_xvid.avi          \n",
            "  inflating: no482_xvid.avi          \n",
            "  inflating: no483_xvid.avi          \n",
            "  inflating: no484_xvid.avi          \n",
            "  inflating: no485_xvid.avi          \n",
            "  inflating: no486_xvid.avi          \n",
            "  inflating: no487_xvid.avi          \n",
            "  inflating: no488_xvid.avi          \n",
            "  inflating: no489_xvid.avi          \n",
            "  inflating: no48_xvid.avi           \n",
            "  inflating: no490_xvid.avi          \n",
            "  inflating: no491_xvid.avi          \n",
            "  inflating: no492_xvid.avi          \n",
            "  inflating: no493_xvid.avi          \n",
            "  inflating: no494_xvid.avi          \n",
            "  inflating: no495_xvid.avi          \n",
            "  inflating: no496_xvid.avi          \n",
            "  inflating: no497_xvid.avi          \n",
            "  inflating: no498_xvid.avi          \n",
            "  inflating: no499_xvid.avi          \n",
            "  inflating: no49_xvid.avi           \n",
            "  inflating: no4_xvid.avi            \n",
            "  inflating: no500_xvid.avi          \n",
            "  inflating: no50_xvid.avi           \n",
            "  inflating: no51_xvid.avi           \n",
            "  inflating: no52_xvid.avi           \n",
            "  inflating: no53_xvid.avi           \n",
            "  inflating: no54_xvid.avi           \n",
            "  inflating: no55_xvid.avi           \n",
            "  inflating: no56_xvid.avi           \n",
            "  inflating: no57_xvid.avi           \n",
            "  inflating: no58_xvid.avi           \n",
            "  inflating: no59_xvid.avi           \n",
            "  inflating: no5_xvid.avi            \n",
            "  inflating: no60_xvid.avi           \n",
            "  inflating: no61_xvid.avi           \n",
            "  inflating: no62_xvid.avi           \n",
            "  inflating: no63_xvid.avi           \n",
            "  inflating: no64_xvid.avi           \n",
            "  inflating: no65___xvid.avi         \n",
            "  inflating: no66_xvid.avi           \n",
            "  inflating: no67_xvid.avi           \n",
            "  inflating: no68_xvid.avi           \n",
            "  inflating: no69_xvid.avi           \n",
            "  inflating: no6_xvid.avi            \n",
            "  inflating: no70_xvid.avi           \n",
            "  inflating: no71_xvid.avi           \n",
            "  inflating: no72_xvid.avi           \n",
            "  inflating: no73_xvid.avi           \n",
            "  inflating: no74_xvid.avi           \n",
            "  inflating: no75_xvid.avi           \n",
            "  inflating: no76_xvid.avi           \n",
            "  inflating: no77_xvid.avi           \n",
            "  inflating: no78_xvid.avi           \n",
            "  inflating: no79_xvid.avi           \n",
            "  inflating: no7_xvid.avi            \n",
            "  inflating: no80_xvid.avi           \n",
            "  inflating: no81_xvid.avi           \n",
            "  inflating: no82_xvid.avi           \n",
            "  inflating: no83_xvid.avi           \n",
            "  inflating: no84_xvid.avi           \n",
            "  inflating: no85_xvid.avi           \n",
            "  inflating: no86_xvid.avi           \n",
            "  inflating: no87_xvid.avi           \n",
            "  inflating: no88_xvid.avi           \n",
            "  inflating: no89_xvid.avi           \n",
            "  inflating: no8_xvid.avi            \n",
            "  inflating: no90_xvid.avi           \n",
            "  inflating: no91_xvid.avi           \n",
            "  inflating: no92_xvid.avi           \n",
            "  inflating: no93_xvid.avi           \n",
            "  inflating: no94_xvid.avi           \n",
            "  inflating: no95_xvid.avi           \n",
            "  inflating: no96_xvid.avi           \n",
            "  inflating: no97_xvid.avi           \n",
            "  inflating: no98_xvid.avi           \n",
            "  inflating: no99_xvid.avi           \n",
            "  inflating: no9_xvid.avi            \n"
          ],
          "name": "stdout"
        }
      ]
    },
    {
      "cell_type": "code",
      "metadata": {
        "id": "wo6g055PkMuz",
        "colab_type": "code",
        "colab": {
          "base_uri": "https://localhost:8080/",
          "height": 184
        },
        "outputId": "5de9bb54-95a1-4f61-e4e0-03c23237ffc8"
      },
      "source": [
        "'''\n",
        "  This part contains the used libraries and essintial parameters\n",
        "  such as frames and dimensions\n",
        "'''\n",
        "!pip install scikit-video\n",
        "#Used Libraries\n",
        "import time\n",
        "import sys\n",
        "import pandas as pd\n",
        "import numpy as np\n",
        "import cv2\n",
        "import pickle\n",
        "import skvideo.io\n",
        "import h5py\n",
        "from tables import *\n",
        "from sklearn import metrics\n",
        "import matplotlib.pyplot as plt\n",
        "from google.colab.patches import cv2_imshow\n",
        "from sklearn.model_selection import train_test_split\n",
        "import tensorflow\n",
        "from tensorflow.keras.utils import to_categorical\n",
        "from tensorflow.keras.applications import VGG19,ResNet50\n",
        "from tensorflow.keras.layers import LSTM , Dense , TimeDistributed, Flatten, Dropout, GlobalAveragePooling2D, GlobalAveragePooling1D, Input\n",
        "from tensorflow.keras.layers import Reshape, BatchNormalization ,ConvLSTM2D\n",
        "from tensorflow.keras.models import Sequential\n",
        "from tensorflow.keras.optimizers import Adam , RMSprop, SGD\n",
        "\n",
        "#Parameters\n",
        "NUMBER_OF_FRAMES = 20\n",
        "IMAGE_SIZE = 160\n",
        "IMAGE_CHANNELS = 3"
      ],
      "execution_count": null,
      "outputs": [
        {
          "output_type": "stream",
          "text": [
            "Collecting scikit-video\n",
            "\u001b[?25l  Downloading https://files.pythonhosted.org/packages/b1/a6/c69cad508139a342810ae46e946ebb3256aa6e42f690d901bb68f50582e3/scikit_video-1.1.11-py2.py3-none-any.whl (2.3MB)\n",
            "\u001b[K     |████████████████████████████████| 2.3MB 2.8MB/s \n",
            "\u001b[?25hRequirement already satisfied: numpy in /usr/local/lib/python3.6/dist-packages (from scikit-video) (1.18.5)\n",
            "Requirement already satisfied: scipy in /usr/local/lib/python3.6/dist-packages (from scikit-video) (1.4.1)\n",
            "Requirement already satisfied: pillow in /usr/local/lib/python3.6/dist-packages (from scikit-video) (7.0.0)\n",
            "Installing collected packages: scikit-video\n",
            "Successfully installed scikit-video-1.1.11\n"
          ],
          "name": "stdout"
        }
      ]
    },
    {
      "cell_type": "code",
      "metadata": {
        "id": "Gw9ozAJGkMrH",
        "colab_type": "code",
        "colab": {
          "base_uri": "https://localhost:8080/",
          "height": 274
        },
        "outputId": "a13a29a8-7bf8-4285-b4e6-c8cbb4dedb4f"
      },
      "source": [
        "'''\n",
        "  This part is responsible for reading the fight and no fight\n",
        "  data from the hockey dataset\n",
        "'''\n",
        "dtframe = pd.DataFrame()\n",
        "vid = []\n",
        "lab = []\n",
        "for i in range(500):\n",
        "  vid.append(\"fi\"+ str(i+1) +\"_xvid.avi\")\n",
        "  lab.append(1)\n",
        "  vid.append(\"no\"+ str(i+1) +\"_xvid.avi\")\n",
        "  lab.append(0)\n",
        "dtframe['video_name'] = vid\n",
        "dtframe['tag'] = lab\n",
        "dtframe.head"
      ],
      "execution_count": null,
      "outputs": [
        {
          "output_type": "execute_result",
          "data": {
            "text/plain": [
              "<bound method NDFrame.head of          video_name  tag\n",
              "0      fi1_xvid.avi    1\n",
              "1      no1_xvid.avi    0\n",
              "2      fi2_xvid.avi    1\n",
              "3      no2_xvid.avi    0\n",
              "4      fi3_xvid.avi    1\n",
              "..              ...  ...\n",
              "995  no498_xvid.avi    0\n",
              "996  fi499_xvid.avi    1\n",
              "997  no499_xvid.avi    0\n",
              "998  fi500_xvid.avi    1\n",
              "999  no500_xvid.avi    0\n",
              "\n",
              "[1000 rows x 2 columns]>"
            ]
          },
          "metadata": {
            "tags": []
          },
          "execution_count": 3
        }
      ]
    },
    {
      "cell_type": "code",
      "metadata": {
        "id": "UdhQv9mGkMo0",
        "colab_type": "code",
        "colab": {
          "base_uri": "https://localhost:8080/",
          "height": 274
        },
        "outputId": "0db6ae6b-b986-4677-f2f6-fdc3209dc484"
      },
      "source": [
        "'''\n",
        "  This part is responsible for reading the fight and no fight\n",
        "  data from the movies dataset\n",
        "'''\n",
        "dtframe2 = pd.DataFrame()\n",
        "vid2 = []\n",
        "lab2 = []\n",
        "for i in range(100):\n",
        "  vid2.append(\"newfi\"+ str(i+1) +\".avi\")\n",
        "  lab2.append(1)\n",
        "  vid2.append(str(i+1) +\".mpg\")\n",
        "  lab2.append(0)\n",
        "dtframe2['video_name'] = vid2\n",
        "dtframe2['tag'] = lab2\n",
        "dtframe2.head"
      ],
      "execution_count": null,
      "outputs": [
        {
          "output_type": "execute_result",
          "data": {
            "text/plain": [
              "<bound method NDFrame.head of        video_name  tag\n",
              "0      newfi1.avi    1\n",
              "1           1.mpg    0\n",
              "2      newfi2.avi    1\n",
              "3           2.mpg    0\n",
              "4      newfi3.avi    1\n",
              "..            ...  ...\n",
              "195        98.mpg    0\n",
              "196   newfi99.avi    1\n",
              "197        99.mpg    0\n",
              "198  newfi100.avi    1\n",
              "199       100.mpg    0\n",
              "\n",
              "[200 rows x 2 columns]>"
            ]
          },
          "metadata": {
            "tags": []
          },
          "execution_count": 4
        }
      ]
    },
    {
      "cell_type": "code",
      "metadata": {
        "id": "DyBLU-GmkMld",
        "colab_type": "code",
        "colab": {}
      },
      "source": [
        "'''\n",
        "  This part is responsible for shuffling and seperating the data into train and\n",
        "  validate. Both splits are balanced # Fight = # No Fight\n",
        "'''\n",
        "traindf = dtframe[:100]\n",
        "traindf = traindf.append(dtframe2[:150],ignore_index= True)\n",
        "valdf = dtframe[101:151]\n",
        "valdf = valdf.append(dtframe2[151:189], ignore_index= True)\n",
        "traindf = traindf.sample(frac=1).reset_index(drop=True)\n",
        "valdf = valdf.sample(frac=1).reset_index(drop=True)"
      ],
      "execution_count": null,
      "outputs": []
    },
    {
      "cell_type": "code",
      "metadata": {
        "id": "oTr4utNwkMjY",
        "colab_type": "code",
        "colab": {}
      },
      "source": [
        "'''\n",
        "  This part is responsible for the cropping of the black frames from the videos\n",
        "'''\n",
        "def autocrop(image, threshold=0):\n",
        "    if len(image.shape) == 3:\n",
        "        flatImage = np.max(image, 2)\n",
        "    else:\n",
        "        flatImage = image\n",
        "    assert len(flatImage.shape) == 2\n",
        "\n",
        "    rows = np.where(np.max(flatImage, 0) > threshold)[0]\n",
        "    if rows.size:\n",
        "        cols = np.where(np.max(flatImage, 1) > threshold)[0]\n",
        "        image = image[cols[0]: cols[-1] + 1, rows[0]: rows[-1] + 1]\n",
        "    else:\n",
        "        image = image[:1, :1]\n",
        "\n",
        "    return image"
      ],
      "execution_count": null,
      "outputs": []
    },
    {
      "cell_type": "code",
      "metadata": {
        "id": "31D8usQLkMgF",
        "colab_type": "code",
        "colab": {}
      },
      "source": [
        "'''\n",
        "  This part is responsible for resizing and scaling each frame of a video\n",
        "  - changing the image from BGR to RGB\n",
        "  - the scaling is from 0 to 1 by dividing each pixel value by 255\n",
        "  - resizing the images to the expected size in the parameters \n",
        "  - applying the autocrop method\n",
        "'''\n",
        "\n",
        "def scale_and_resize(image):\n",
        "\n",
        "  image = cv2.cvtColor(image, cv2.COLOR_BGR2RGB)\n",
        "  image = autocrop(image)\n",
        "  image = cv2.resize(image,(IMAGE_SIZE,IMAGE_SIZE))\n",
        "  image = image/255.0\n",
        "  \n",
        "  return image.astype('float16')\n",
        "  "
      ],
      "execution_count": null,
      "outputs": []
    },
    {
      "cell_type": "code",
      "metadata": {
        "id": "VTfNLyLbkMdT",
        "colab_type": "code",
        "colab": {}
      },
      "source": [
        "'''\n",
        "  Input parameter: Dataframe contains Video name and label\n",
        "  Output: tensor of (SAMPLES,20,160,160,3) contains videos divided into frames\n",
        "'''\n",
        "def extract_frames(videodf, start_index = 0, end_index =-1):\n",
        "\n",
        "  output_videos = []\n",
        "  output_labels = []\n",
        "\n",
        "  if end_index is -1:\n",
        "    end_index = videodf.shape[0]\n",
        "\n",
        "  for i in range(start_index, end_index):\n",
        "\n",
        "    try:\n",
        "      videodata = skvideo.io.vread(videodf['video_name'][i])\n",
        "\n",
        "    except:\n",
        "      continue\n",
        "\n",
        "    steps = videodata.shape[0] // NUMBER_OF_FRAMES\n",
        "    new_images = np.zeros((NUMBER_OF_FRAMES,IMAGE_SIZE,IMAGE_SIZE,IMAGE_CHANNELS))\n",
        "\n",
        "    for j in range(NUMBER_OF_FRAMES):\n",
        "      new_images[j] = scale_and_resize(videodata[j*steps])\n",
        "\n",
        "    output_videos.append(new_images)   \n",
        "    output_labels.append(videodf['tag'][i])\n",
        "\n",
        "    sys.stdout.write(\"\\rVideo Processed \" + str(i-start_index+1)+ \"/\" + str(end_index-start_index))\n",
        "    sys.stdout.flush()\n",
        "\n",
        "  output_videos = np.array(output_videos)\n",
        "  output_labels = np.array(output_labels)\n",
        "  \n",
        "  return output_videos , output_labels"
      ],
      "execution_count": null,
      "outputs": []
    },
    {
      "cell_type": "code",
      "metadata": {
        "id": "GFBP5EoUMaSU",
        "colab_type": "code",
        "colab": {}
      },
      "source": [
        "'''\n",
        "  Input parameter: Dataframe contains Video name and label\n",
        "  Output: tensor of (SAMPLES,10,160,160,3) contains videos divided into \n",
        "  difference between frames\n",
        "'''\n",
        "def extract_frames_difference(videodf, start_index = 0, end_index =-1):\n",
        "  \n",
        "  output_videos = []\n",
        "  output_labels = []\n",
        "\n",
        "  if end_index is -1:\n",
        "    end_index = videodf.shape[0]\n",
        "\n",
        "  for i in range(start_index, end_index):\n",
        "\n",
        "    try:\n",
        "      videodata = skvideo.io.vread(videodf['video_name'][i])\n",
        "\n",
        "    except:\n",
        "      continue\n",
        "\n",
        "    steps = videodata.shape[0] // NUMBER_OF_FRAMES\n",
        "    new_images = []\n",
        "    new_diff = np.zeros((int(NUMBER_OF_FRAMES/2),IMAGE_SIZE,IMAGE_SIZE,IMAGE_CHANNELS))\n",
        "    count = 0\n",
        "\n",
        "    for j in range(NUMBER_OF_FRAMES):\n",
        "      new_images.append(videodata[j*steps])\n",
        "\n",
        "    for j in range(0,NUMBER_OF_FRAMES,2):\n",
        "      new_diff[count] = scale_and_resize(cv2.absdiff(new_images[j],new_images[j+1]))\n",
        "      count += 1 \n",
        "\n",
        "    output_videos.append(new_diff)   \n",
        "    output_labels.append(videodf['tag'][i])\n",
        "\n",
        "    sys.stdout.write(\"\\rVideo Processed \" + str(i-start_index+1)+ \"/\" + str(end_index-start_index))\n",
        "    sys.stdout.flush()\n",
        "\n",
        "  output_videos = np.array(output_videos)\n",
        "  output_labels = np.array(output_labels)\n",
        "  \n",
        "  return output_videos , output_labels"
      ],
      "execution_count": null,
      "outputs": []
    },
    {
      "cell_type": "code",
      "metadata": {
        "id": "S8MbL1XhkMaV",
        "colab_type": "code",
        "colab": {
          "base_uri": "https://localhost:8080/",
          "height": 35
        },
        "outputId": "d1e234c9-8e34-4015-cb5b-ec73ebeaab3c"
      },
      "source": [
        "fvideo , flabels = extract_frames(traindf)"
      ],
      "execution_count": null,
      "outputs": [
        {
          "output_type": "stream",
          "text": [
            "Video Processed 250/250"
          ],
          "name": "stdout"
        }
      ]
    },
    {
      "cell_type": "code",
      "metadata": {
        "id": "9o2xYA1akMU9",
        "colab_type": "code",
        "colab": {
          "base_uri": "https://localhost:8080/",
          "height": 35
        },
        "outputId": "7542a1c4-8260-48c2-f49a-3b5718869e03"
      },
      "source": [
        "tvideo , tlabels = extract_frames(valdf)"
      ],
      "execution_count": null,
      "outputs": [
        {
          "output_type": "stream",
          "text": [
            "Video Processed 88/88"
          ],
          "name": "stdout"
        }
      ]
    },
    {
      "cell_type": "code",
      "metadata": {
        "id": "nqzy5tEikMJo",
        "colab_type": "code",
        "colab": {}
      },
      "source": [
        "flabels = flabels.astype('float16')\n",
        "#flabels = to_categorical(flabels ,num_classes=2)\n",
        "\n",
        "tlabels = tlabels.astype('float16')\n",
        "#tlabels = to_categorical(tlabels ,num_classes=2)"
      ],
      "execution_count": null,
      "outputs": []
    },
    {
      "cell_type": "code",
      "metadata": {
        "id": "if-vNJRjkdjl",
        "colab_type": "code",
        "colab": {
          "base_uri": "https://localhost:8080/",
          "height": 90
        },
        "outputId": "ef952196-f8a1-4c5d-df85-8b0354197f02"
      },
      "source": [
        "print(fvideo.shape)\n",
        "print(flabels.shape)\n",
        "\n",
        "print(tvideo.shape)\n",
        "print(tlabels.shape)"
      ],
      "execution_count": null,
      "outputs": [
        {
          "output_type": "stream",
          "text": [
            "(240, 20, 160, 160, 3)\n",
            "(240,)\n",
            "(87, 20, 160, 160, 3)\n",
            "(87,)\n"
          ],
          "name": "stdout"
        }
      ]
    },
    {
      "cell_type": "code",
      "metadata": {
        "id": "My3wyNKLkdtK",
        "colab_type": "code",
        "colab": {
          "base_uri": "https://localhost:8080/",
          "height": 35
        },
        "outputId": "e760f72e-1c88-46d2-f03e-5be642d145b1"
      },
      "source": [
        "hockey_video , hockey_labels = extract_frames(dtframe,300,400)"
      ],
      "execution_count": null,
      "outputs": [
        {
          "output_type": "stream",
          "text": [
            "Video Processed 100/100"
          ],
          "name": "stdout"
        }
      ]
    },
    {
      "cell_type": "code",
      "metadata": {
        "id": "bYgCYrGYkd0L",
        "colab_type": "code",
        "colab": {
          "base_uri": "https://localhost:8080/",
          "height": 35
        },
        "outputId": "2167009e-edf9-4774-bceb-a35645e1dc61"
      },
      "source": [
        "movies_video , movies_labels = extract_frames(dtframe2,189,199)"
      ],
      "execution_count": null,
      "outputs": [
        {
          "output_type": "stream",
          "text": [
            "Video Processed 10/10"
          ],
          "name": "stdout"
        }
      ]
    },
    {
      "cell_type": "code",
      "metadata": {
        "id": "vfGmGbJRE0co",
        "colab_type": "code",
        "colab": {
          "base_uri": "https://localhost:8080/",
          "height": 90
        },
        "outputId": "8ffb3b2f-8ee6-4765-858c-01c0094351d5"
      },
      "source": [
        "print(hockey_video.shape)\n",
        "print(hockey_labels.shape)\n",
        "\n",
        "print(movies_video.shape)\n",
        "print(movies_labels.shape)"
      ],
      "execution_count": null,
      "outputs": [
        {
          "output_type": "stream",
          "text": [
            "(100, 20, 160, 160, 3)\n",
            "(100,)\n",
            "(10, 20, 160, 160, 3)\n",
            "(10,)\n"
          ],
          "name": "stdout"
        }
      ]
    },
    {
      "cell_type": "code",
      "metadata": {
        "id": "aBlS8q0vwWUg",
        "colab_type": "code",
        "colab": {}
      },
      "source": [
        "'''\n",
        "  This algorithm uses the history data from the training of the model (.fit)\n",
        "  in order to plot the loss and accuracy at each epoch\n",
        "'''\n",
        "def plot_results(history):  \n",
        "  loss = history.history['loss']\n",
        "  val_loss = history.history['val_loss']\n",
        "  acc = history.history['accuracy']\n",
        "  val_acc = history.history['val_accuracy']\n",
        "\n",
        "  epochs = range(len(loss))\n",
        "\n",
        "  plt.figure()\n",
        "\n",
        "  plt.plot(epochs, loss, 'b', label='Training loss')\n",
        "  plt.plot(epochs, val_loss, 'r', label='Validation loss')\n",
        "  plt.legend()\n",
        "\n",
        "  plt.show()\n",
        "  plt.plot(epochs, acc, 'b', label='Training accuracy')\n",
        "  plt.plot(epochs, val_acc, 'r', label='Validation accuracy')\n",
        "  plt.legend()\n",
        "\n",
        "  plt.show()"
      ],
      "execution_count": null,
      "outputs": []
    },
    {
      "cell_type": "code",
      "metadata": {
        "id": "rmRzhk3Inm4U",
        "colab_type": "code",
        "colab": {}
      },
      "source": [
        "'''\n",
        "  This method is responsible to evaluate a model which is passed as a \n",
        "  parameter to test it on both hockey and movies dataset\n",
        "'''\n",
        "def val_results(model):\n",
        "  hockey_predictions = []\n",
        "\n",
        "  for i in range(0,len(hockey_video)):\n",
        "    hockey_predictions.append(model.predict(hockey_video[i:i+1])[0])\n",
        "\n",
        "  count = 0\n",
        "  count2 = 0\n",
        "\n",
        "  for i in range(len(hockey_labels)):\n",
        "    if hockey_predictions[i] > 0.5 and hockey_labels[i] == 1:\n",
        "      count +=1 \n",
        "    elif hockey_predictions[i] < 0.5 and hockey_labels[i] == 0:\n",
        "      count +=1\n",
        "\n",
        "  movies_predictions = model.predict(movies_video)\n",
        "\n",
        "  for i in range(len(movies_labels)):\n",
        "    if movies_predictions[i] > 0.5 and movies_labels[i] == 1:\n",
        "      count2 +=1 \n",
        "    elif movies_predictions[i] < 0.5 and movies_labels[i] == 0:\n",
        "      count2 +=1 \n",
        "  print(\"Hockey Test Acc: \" , float(count/len(hockey_labels)),\"\\tCount: \" , count ,\"\\nMovies Test Acc: \" ,float(count2/len(movies_labels)),\"\\tCount: \" , count2)"
      ],
      "execution_count": null,
      "outputs": []
    },
    {
      "cell_type": "code",
      "metadata": {
        "id": "HU0Rw-ehkdmu",
        "colab_type": "code",
        "colab": {}
      },
      "source": [
        "'''\n",
        "  Defining the first model which uses the full frames to classify the action\n",
        "'''\n",
        "def CNN_LSTM(model_arch, opt, retrain ,init_weights = 'imagenet'):\n",
        "\n",
        "    input_shapes=(NUMBER_OF_FRAMES,IMAGE_SIZE,IMAGE_SIZE,3)\n",
        "    #np.random.seed(1234)\n",
        "    if model_arch is 'Vgg19':\n",
        "      base_model=VGG19(include_top=False,weights= init_weights ,input_shape=(IMAGE_SIZE, IMAGE_SIZE,3))\n",
        "    elif model_arch is 'Resnet':\n",
        "      base_model = ResNet50(include_top=False,weights=init_weights ,input_shape=(IMAGE_SIZE, IMAGE_SIZE,3))\n",
        "\n",
        "    for layer in base_model.layers:\n",
        "        layer.trainable = retrain\n",
        "\n",
        "    cnn = TimeDistributed(base_model,  input_shape=(NUMBER_OF_FRAMES, IMAGE_SIZE, IMAGE_SIZE, 3))\n",
        "    \n",
        "    model = Sequential()\n",
        "    #model.add(Input(shape=(NUMBER_OF_FRAMES, IMAGE_SIZE, IMAGE_SIZE, IMAGE_CHANNELS)))\n",
        "    model.add(cnn)\n",
        "    model.add(TimeDistributed(Flatten()))\n",
        "\n",
        "    \n",
        "    model.add(LSTM(NUMBER_OF_FRAMES+80 , return_sequences= True))\n",
        "    model.add(BatchNormalization())\n",
        "    #model.add(Dropout(0.2))\n",
        "    model.add(TimeDistributed(Dense(90, activation='relu')))\n",
        "    model.add(BatchNormalization())\n",
        "    model.add(Dropout(0.5))\n",
        "    model.add(GlobalAveragePooling1D())\n",
        "    model.add(BatchNormalization())\n",
        "    model.add(Dense(90, activation='relu'))\n",
        "    model.add(Dropout(0.5))\n",
        "    model.add(BatchNormalization())\n",
        "    model.add(Dense(1, activation=\"sigmoid\"))\n",
        "\n",
        "    if opt is 'Adam':\n",
        "      opti = Adam(lr=0.00001)\n",
        "    elif opt is 'Sgd':\n",
        "      opti = SGD(lr=0.00001)\n",
        "    elif opt is 'RMSprop':\n",
        "      opti = RMSprop(lr=0.00001)\n",
        "\n",
        "    model.compile(loss='BinaryCrossentropy', optimizer= opti, metrics=[\"accuracy\"])\n",
        "\n",
        "    return model"
      ],
      "execution_count": null,
      "outputs": []
    },
    {
      "cell_type": "code",
      "metadata": {
        "id": "N4chV-5Ckdp2",
        "colab_type": "code",
        "colab": {
          "base_uri": "https://localhost:8080/",
          "height": 752
        },
        "outputId": "f7958a80-30fd-449d-ae36-58287edf61ee"
      },
      "source": [
        "vgg_adam_retrain = CNN_LSTM('Vgg19', 'Adam', True)\n",
        "vgg_adam_retrain_history = vgg_adam_retrain.fit(fvideo,flabels, batch_size=10, epochs=20, validation_data=(tvideo , tlabels))"
      ],
      "execution_count": null,
      "outputs": [
        {
          "output_type": "stream",
          "text": [
            "Epoch 1/20\n",
            "24/24 [==============================] - 22s 929ms/step - loss: 0.6473 - accuracy: 0.6375 - val_loss: 0.6536 - val_accuracy: 0.7011\n",
            "Epoch 2/20\n",
            "24/24 [==============================] - 22s 897ms/step - loss: 0.4610 - accuracy: 0.8000 - val_loss: 0.6539 - val_accuracy: 0.5977\n",
            "Epoch 3/20\n",
            "24/24 [==============================] - 22s 897ms/step - loss: 0.3771 - accuracy: 0.8500 - val_loss: 0.6264 - val_accuracy: 0.7931\n",
            "Epoch 4/20\n",
            "24/24 [==============================] - 22s 897ms/step - loss: 0.3646 - accuracy: 0.8417 - val_loss: 0.5937 - val_accuracy: 0.8161\n",
            "Epoch 5/20\n",
            "24/24 [==============================] - 22s 919ms/step - loss: 0.3538 - accuracy: 0.8667 - val_loss: 0.5721 - val_accuracy: 0.8736\n",
            "Epoch 6/20\n",
            "24/24 [==============================] - 22s 896ms/step - loss: 0.3589 - accuracy: 0.8333 - val_loss: 0.6138 - val_accuracy: 0.6437\n",
            "Epoch 7/20\n",
            "24/24 [==============================] - 22s 897ms/step - loss: 0.2747 - accuracy: 0.9042 - val_loss: 0.5769 - val_accuracy: 0.7241\n",
            "Epoch 8/20\n",
            "24/24 [==============================] - 21s 895ms/step - loss: 0.2703 - accuracy: 0.9250 - val_loss: 0.5196 - val_accuracy: 0.8506\n",
            "Epoch 9/20\n",
            "24/24 [==============================] - 22s 913ms/step - loss: 0.2266 - accuracy: 0.9167 - val_loss: 0.5276 - val_accuracy: 0.7471\n",
            "Epoch 10/20\n",
            "24/24 [==============================] - 22s 910ms/step - loss: 0.2488 - accuracy: 0.9125 - val_loss: 0.4343 - val_accuracy: 0.8736\n",
            "Epoch 11/20\n",
            "24/24 [==============================] - 22s 914ms/step - loss: 0.2601 - accuracy: 0.9208 - val_loss: 0.4080 - val_accuracy: 0.8966\n",
            "Epoch 12/20\n",
            "24/24 [==============================] - 22s 914ms/step - loss: 0.1900 - accuracy: 0.9375 - val_loss: 0.3708 - val_accuracy: 0.8851\n",
            "Epoch 13/20\n",
            "24/24 [==============================] - 22s 920ms/step - loss: 0.1761 - accuracy: 0.9375 - val_loss: 0.3479 - val_accuracy: 0.9080\n",
            "Epoch 14/20\n",
            "24/24 [==============================] - 22s 898ms/step - loss: 0.1948 - accuracy: 0.9333 - val_loss: 0.3126 - val_accuracy: 0.9195\n",
            "Epoch 15/20\n",
            "24/24 [==============================] - 22s 897ms/step - loss: 0.1677 - accuracy: 0.9375 - val_loss: 0.3093 - val_accuracy: 0.8851\n",
            "Epoch 16/20\n",
            "24/24 [==============================] - 22s 897ms/step - loss: 0.1567 - accuracy: 0.9667 - val_loss: 0.2918 - val_accuracy: 0.9080\n",
            "Epoch 17/20\n",
            "24/24 [==============================] - 22s 897ms/step - loss: 0.1389 - accuracy: 0.9625 - val_loss: 0.2575 - val_accuracy: 0.9310\n",
            "Epoch 18/20\n",
            "24/24 [==============================] - 22s 898ms/step - loss: 0.1374 - accuracy: 0.9583 - val_loss: 0.2352 - val_accuracy: 0.9310\n",
            "Epoch 19/20\n",
            "24/24 [==============================] - 22s 897ms/step - loss: 0.1468 - accuracy: 0.9750 - val_loss: 0.2261 - val_accuracy: 0.9310\n",
            "Epoch 20/20\n",
            "24/24 [==============================] - 22s 897ms/step - loss: 0.1055 - accuracy: 0.9792 - val_loss: 0.2471 - val_accuracy: 0.9080\n"
          ],
          "name": "stdout"
        }
      ]
    },
    {
      "cell_type": "code",
      "metadata": {
        "id": "_9QzMR0XO1Vb",
        "colab_type": "code",
        "colab": {
          "base_uri": "https://localhost:8080/",
          "height": 513
        },
        "outputId": "3dba4b17-8cb1-4ed7-fed8-c1d75b2363fe"
      },
      "source": [
        "plot_results(vgg_adam_retrain_history)"
      ],
      "execution_count": null,
      "outputs": [
        {
          "output_type": "display_data",
          "data": {
            "image/png": "[encoded data removed]",
            "text/plain": [
              "<Figure size 432x288 with 1 Axes>"
            ]
          },
          "metadata": {
            "tags": [],
            "needs_background": "light"
          }
        },
        {
          "output_type": "display_data",
          "data": {
            "image/png": "[encoded data removed]",
            "text/plain": [
              "<Figure size 432x288 with 1 Axes>"
            ]
          },
          "metadata": {
            "tags": [],
            "needs_background": "light"
          }
        }
      ]
    },
    {
      "cell_type": "code",
      "metadata": {
        "id": "n2oio25SgZBB",
        "colab_type": "code",
        "colab": {
          "base_uri": "https://localhost:8080/",
          "height": 54
        },
        "outputId": "867d3594-da35-4826-cb5c-78951003962c"
      },
      "source": [
        "val_results(vgg_adam_retrain)"
      ],
      "execution_count": null,
      "outputs": [
        {
          "output_type": "stream",
          "text": [
            "Hockey Test Acc:  0.83 \tCount:  83 \n",
            "Movies Test Acc:  1.0 \tCount:  10\n"
          ],
          "name": "stdout"
        }
      ]
    },
    {
      "cell_type": "code",
      "metadata": {
        "id": "xzxT3QfWE-7z",
        "colab_type": "code",
        "colab": {
          "base_uri": "https://localhost:8080/",
          "height": 752
        },
        "outputId": "c3d1972c-bf59-4496-fe7e-148641d91019"
      },
      "source": [
        "vgg_adam_static = CNN_LSTM('Vgg19', 'Adam', False)\n",
        "vgg_adam_static_history = vgg_adam_static.fit(fvideo,flabels, batch_size=10, epochs=20, validation_data=(tvideo , tlabels))"
      ],
      "execution_count": null,
      "outputs": [
        {
          "output_type": "stream",
          "text": [
            "Epoch 1/20\n",
            "24/24 [==============================] - 11s 474ms/step - loss: 0.7992 - accuracy: 0.5083 - val_loss: 0.6912 - val_accuracy: 0.5172\n",
            "Epoch 2/20\n",
            "24/24 [==============================] - 10s 403ms/step - loss: 0.6506 - accuracy: 0.6417 - val_loss: 0.6740 - val_accuracy: 0.6207\n",
            "Epoch 3/20\n",
            "24/24 [==============================] - 10s 403ms/step - loss: 0.4696 - accuracy: 0.7833 - val_loss: 0.6632 - val_accuracy: 0.6322\n",
            "Epoch 4/20\n",
            "24/24 [==============================] - 10s 403ms/step - loss: 0.4717 - accuracy: 0.7750 - val_loss: 0.6589 - val_accuracy: 0.5977\n",
            "Epoch 5/20\n",
            "24/24 [==============================] - 10s 402ms/step - loss: 0.4496 - accuracy: 0.8083 - val_loss: 0.6483 - val_accuracy: 0.6092\n",
            "Epoch 6/20\n",
            "24/24 [==============================] - 10s 403ms/step - loss: 0.3687 - accuracy: 0.8458 - val_loss: 0.6252 - val_accuracy: 0.6322\n",
            "Epoch 7/20\n",
            "24/24 [==============================] - 10s 406ms/step - loss: 0.3667 - accuracy: 0.8625 - val_loss: 0.6109 - val_accuracy: 0.5862\n",
            "Epoch 8/20\n",
            "24/24 [==============================] - 10s 403ms/step - loss: 0.3247 - accuracy: 0.8792 - val_loss: 0.6076 - val_accuracy: 0.5862\n",
            "Epoch 9/20\n",
            "24/24 [==============================] - 10s 413ms/step - loss: 0.2866 - accuracy: 0.8875 - val_loss: 0.5929 - val_accuracy: 0.6092\n",
            "Epoch 10/20\n",
            "24/24 [==============================] - 10s 403ms/step - loss: 0.3195 - accuracy: 0.8500 - val_loss: 0.5865 - val_accuracy: 0.6322\n",
            "Epoch 11/20\n",
            "24/24 [==============================] - 10s 403ms/step - loss: 0.2603 - accuracy: 0.9083 - val_loss: 0.5678 - val_accuracy: 0.6437\n",
            "Epoch 12/20\n",
            "24/24 [==============================] - 10s 402ms/step - loss: 0.2581 - accuracy: 0.9125 - val_loss: 0.5282 - val_accuracy: 0.6897\n",
            "Epoch 13/20\n",
            "24/24 [==============================] - 10s 402ms/step - loss: 0.2310 - accuracy: 0.9250 - val_loss: 0.4893 - val_accuracy: 0.7241\n",
            "Epoch 14/20\n",
            "24/24 [==============================] - 10s 402ms/step - loss: 0.2431 - accuracy: 0.9292 - val_loss: 0.4666 - val_accuracy: 0.7356\n",
            "Epoch 15/20\n",
            "24/24 [==============================] - 10s 402ms/step - loss: 0.2511 - accuracy: 0.9292 - val_loss: 0.4384 - val_accuracy: 0.7356\n",
            "Epoch 16/20\n",
            "24/24 [==============================] - 10s 402ms/step - loss: 0.2121 - accuracy: 0.9333 - val_loss: 0.4119 - val_accuracy: 0.7816\n",
            "Epoch 17/20\n",
            "24/24 [==============================] - 10s 413ms/step - loss: 0.2415 - accuracy: 0.9250 - val_loss: 0.3996 - val_accuracy: 0.7701\n",
            "Epoch 18/20\n",
            "24/24 [==============================] - 10s 413ms/step - loss: 0.2022 - accuracy: 0.9125 - val_loss: 0.3962 - val_accuracy: 0.7701\n",
            "Epoch 19/20\n",
            "24/24 [==============================] - 10s 402ms/step - loss: 0.2076 - accuracy: 0.9333 - val_loss: 0.3590 - val_accuracy: 0.8276\n",
            "Epoch 20/20\n",
            "24/24 [==============================] - 10s 402ms/step - loss: 0.2125 - accuracy: 0.9250 - val_loss: 0.3221 - val_accuracy: 0.9080\n"
          ],
          "name": "stdout"
        }
      ]
    },
    {
      "cell_type": "code",
      "metadata": {
        "id": "96_lURbtFLVI",
        "colab_type": "code",
        "colab": {
          "base_uri": "https://localhost:8080/",
          "height": 513
        },
        "outputId": "2f695e42-a3f7-491a-dad8-247a405f406f"
      },
      "source": [
        "plot_results(vgg_adam_static_history)"
      ],
      "execution_count": null,
      "outputs": [
        {
          "output_type": "display_data",
          "data": {
            "image/png": "[encoded data removed]",
            "text/plain": [
              "<Figure size 432x288 with 1 Axes>"
            ]
          },
          "metadata": {
            "tags": [],
            "needs_background": "light"
          }
        },
        {
          "output_type": "display_data",
          "data": {
            "image/png": "[encoded data removed]",
            "text/plain": [
              "<Figure size 432x288 with 1 Axes>"
            ]
          },
          "metadata": {
            "tags": [],
            "needs_background": "light"
          }
        }
      ]
    },
    {
      "cell_type": "code",
      "metadata": {
        "id": "JgNKk-GLFO56",
        "colab_type": "code",
        "colab": {
          "base_uri": "https://localhost:8080/",
          "height": 54
        },
        "outputId": "b5569f81-d45e-4ab1-f8a8-b70386203702"
      },
      "source": [
        "val_results(vgg_adam_static)"
      ],
      "execution_count": null,
      "outputs": [
        {
          "output_type": "stream",
          "text": [
            "Hockey Test Acc:  0.8 \tCount:  80 \n",
            "Movies Test Acc:  1.0 \tCount:  10\n"
          ],
          "name": "stdout"
        }
      ]
    },
    {
      "cell_type": "code",
      "metadata": {
        "id": "gQdeytZIFQ5T",
        "colab_type": "code",
        "colab": {
          "base_uri": "https://localhost:8080/",
          "height": 752
        },
        "outputId": "30087f7c-605d-47e4-cfca-0e68eab3e5de"
      },
      "source": [
        "resnet_adam_static = CNN_LSTM('Resnet', 'Adam', False)\n",
        "resnet_adam_static_history = resnet_adam_static.fit(fvideo,flabels, batch_size=10, epochs=20, validation_data=(tvideo , tlabels))"
      ],
      "execution_count": null,
      "outputs": [
        {
          "output_type": "stream",
          "text": [
            "Epoch 1/20\n",
            "24/24 [==============================] - 8s 324ms/step - loss: 0.7994 - accuracy: 0.5750 - val_loss: 0.7063 - val_accuracy: 0.5057\n",
            "Epoch 2/20\n",
            "24/24 [==============================] - 6s 248ms/step - loss: 0.7057 - accuracy: 0.6375 - val_loss: 0.7009 - val_accuracy: 0.5057\n",
            "Epoch 3/20\n",
            "24/24 [==============================] - 6s 249ms/step - loss: 0.6757 - accuracy: 0.6042 - val_loss: 0.6844 - val_accuracy: 0.5057\n",
            "Epoch 4/20\n",
            "24/24 [==============================] - 6s 249ms/step - loss: 0.5547 - accuracy: 0.7083 - val_loss: 0.6778 - val_accuracy: 0.5057\n",
            "Epoch 5/20\n",
            "24/24 [==============================] - 6s 254ms/step - loss: 0.5601 - accuracy: 0.7042 - val_loss: 0.6687 - val_accuracy: 0.5977\n",
            "Epoch 6/20\n",
            "24/24 [==============================] - 6s 247ms/step - loss: 0.5863 - accuracy: 0.7333 - val_loss: 0.6598 - val_accuracy: 0.5977\n",
            "Epoch 7/20\n",
            "24/24 [==============================] - 6s 255ms/step - loss: 0.5277 - accuracy: 0.7750 - val_loss: 0.6624 - val_accuracy: 0.6092\n",
            "Epoch 8/20\n",
            "24/24 [==============================] - 6s 249ms/step - loss: 0.4853 - accuracy: 0.7625 - val_loss: 0.6536 - val_accuracy: 0.6207\n",
            "Epoch 9/20\n",
            "24/24 [==============================] - 6s 246ms/step - loss: 0.4904 - accuracy: 0.7792 - val_loss: 0.6999 - val_accuracy: 0.5402\n",
            "Epoch 10/20\n",
            "24/24 [==============================] - 6s 247ms/step - loss: 0.5003 - accuracy: 0.7292 - val_loss: 0.7558 - val_accuracy: 0.5172\n",
            "Epoch 11/20\n",
            "24/24 [==============================] - 6s 247ms/step - loss: 0.5185 - accuracy: 0.7375 - val_loss: 0.7639 - val_accuracy: 0.5287\n",
            "Epoch 12/20\n",
            "24/24 [==============================] - 6s 248ms/step - loss: 0.4834 - accuracy: 0.7875 - val_loss: 0.6645 - val_accuracy: 0.6207\n",
            "Epoch 13/20\n",
            "24/24 [==============================] - 6s 246ms/step - loss: 0.4001 - accuracy: 0.8250 - val_loss: 0.6027 - val_accuracy: 0.6782\n",
            "Epoch 14/20\n",
            "24/24 [==============================] - 6s 248ms/step - loss: 0.4186 - accuracy: 0.8583 - val_loss: 0.5891 - val_accuracy: 0.7126\n",
            "Epoch 15/20\n",
            "24/24 [==============================] - 6s 246ms/step - loss: 0.4114 - accuracy: 0.8125 - val_loss: 0.6219 - val_accuracy: 0.6552\n",
            "Epoch 16/20\n",
            "24/24 [==============================] - 6s 247ms/step - loss: 0.3538 - accuracy: 0.8375 - val_loss: 0.5974 - val_accuracy: 0.6897\n",
            "Epoch 17/20\n",
            "24/24 [==============================] - 6s 246ms/step - loss: 0.3844 - accuracy: 0.8333 - val_loss: 0.6080 - val_accuracy: 0.6782\n",
            "Epoch 18/20\n",
            "24/24 [==============================] - 6s 246ms/step - loss: 0.4242 - accuracy: 0.8292 - val_loss: 0.6234 - val_accuracy: 0.6782\n",
            "Epoch 19/20\n",
            "24/24 [==============================] - 6s 247ms/step - loss: 0.3853 - accuracy: 0.8333 - val_loss: 0.6074 - val_accuracy: 0.6897\n",
            "Epoch 20/20\n",
            "24/24 [==============================] - 6s 247ms/step - loss: 0.4270 - accuracy: 0.8250 - val_loss: 0.6251 - val_accuracy: 0.7011\n"
          ],
          "name": "stdout"
        }
      ]
    },
    {
      "cell_type": "code",
      "metadata": {
        "id": "o0xoHYNGF081",
        "colab_type": "code",
        "colab": {
          "base_uri": "https://localhost:8080/",
          "height": 513
        },
        "outputId": "df27733a-958b-4c40-a863-81d74dfe281e"
      },
      "source": [
        "plot_results(resnet_adam_static_history)"
      ],
      "execution_count": null,
      "outputs": [
        {
          "output_type": "display_data",
          "data": {
            "image/png": "[encoded data removed]",
            "text/plain": [
              "<Figure size 432x288 with 1 Axes>"
            ]
          },
          "metadata": {
            "tags": [],
            "needs_background": "light"
          }
        },
        {
          "output_type": "display_data",
          "data": {
            "image/png": "[encoded data removed]",
            "text/plain": [
              "<Figure size 432x288 with 1 Axes>"
            ]
          },
          "metadata": {
            "tags": [],
            "needs_background": "light"
          }
        }
      ]
    },
    {
      "cell_type": "code",
      "metadata": {
        "id": "RuZsy_seF4WV",
        "colab_type": "code",
        "colab": {
          "base_uri": "https://localhost:8080/",
          "height": 54
        },
        "outputId": "41b4a0b2-1cc3-42bd-de62-cc7f705cf923"
      },
      "source": [
        "val_results(resnet_adam_static)"
      ],
      "execution_count": null,
      "outputs": [
        {
          "output_type": "stream",
          "text": [
            "Hockey Test Acc:  0.77 \tCount:  77 \n",
            "Movies Test Acc:  0.6 \tCount:  6\n"
          ],
          "name": "stdout"
        }
      ]
    },
    {
      "cell_type": "code",
      "metadata": {
        "id": "QqXcozrGF7_S",
        "colab_type": "code",
        "colab": {
          "base_uri": "https://localhost:8080/",
          "height": 752
        },
        "outputId": "e873bb7c-bcab-486d-acf3-e4e2833f0feb"
      },
      "source": [
        "resnet_rmsprop_static = CNN_LSTM('Resnet', 'RMSprop', False)\n",
        "resnet_rmsprop_static_history = resnet_rmsprop_static.fit(fvideo,flabels, batch_size=10, epochs=20, validation_data=(tvideo , tlabels))"
      ],
      "execution_count": null,
      "outputs": [
        {
          "output_type": "stream",
          "text": [
            "Epoch 1/20\n",
            "24/24 [==============================] - 8s 313ms/step - loss: 0.6074 - accuracy: 0.7125 - val_loss: 0.6879 - val_accuracy: 0.5632\n",
            "Epoch 2/20\n",
            "24/24 [==============================] - 6s 250ms/step - loss: 0.5521 - accuracy: 0.7125 - val_loss: 0.6745 - val_accuracy: 0.7471\n",
            "Epoch 3/20\n",
            "24/24 [==============================] - 6s 250ms/step - loss: 0.5464 - accuracy: 0.7417 - val_loss: 0.6635 - val_accuracy: 0.7586\n",
            "Epoch 4/20\n",
            "24/24 [==============================] - 6s 251ms/step - loss: 0.5029 - accuracy: 0.7458 - val_loss: 0.6594 - val_accuracy: 0.5747\n",
            "Epoch 5/20\n",
            "24/24 [==============================] - 6s 250ms/step - loss: 0.5019 - accuracy: 0.7542 - val_loss: 0.6558 - val_accuracy: 0.5172\n",
            "Epoch 6/20\n",
            "24/24 [==============================] - 6s 250ms/step - loss: 0.4625 - accuracy: 0.8208 - val_loss: 0.6343 - val_accuracy: 0.6322\n",
            "Epoch 7/20\n",
            "24/24 [==============================] - 6s 251ms/step - loss: 0.4778 - accuracy: 0.7792 - val_loss: 0.6413 - val_accuracy: 0.5517\n",
            "Epoch 8/20\n",
            "24/24 [==============================] - 6s 250ms/step - loss: 0.5059 - accuracy: 0.7417 - val_loss: 0.6636 - val_accuracy: 0.5172\n",
            "Epoch 9/20\n",
            "24/24 [==============================] - 6s 250ms/step - loss: 0.4660 - accuracy: 0.7875 - val_loss: 0.6739 - val_accuracy: 0.5402\n",
            "Epoch 10/20\n",
            "24/24 [==============================] - 6s 249ms/step - loss: 0.4157 - accuracy: 0.8083 - val_loss: 0.6739 - val_accuracy: 0.5402\n",
            "Epoch 11/20\n",
            "24/24 [==============================] - 6s 254ms/step - loss: 0.4544 - accuracy: 0.7958 - val_loss: 0.6265 - val_accuracy: 0.5977\n",
            "Epoch 12/20\n",
            "24/24 [==============================] - 6s 249ms/step - loss: 0.4279 - accuracy: 0.8333 - val_loss: 0.6301 - val_accuracy: 0.5747\n",
            "Epoch 13/20\n",
            "24/24 [==============================] - 6s 258ms/step - loss: 0.4201 - accuracy: 0.7875 - val_loss: 0.6065 - val_accuracy: 0.6092\n",
            "Epoch 14/20\n",
            "24/24 [==============================] - 6s 250ms/step - loss: 0.4686 - accuracy: 0.7792 - val_loss: 0.6098 - val_accuracy: 0.6092\n",
            "Epoch 15/20\n",
            "24/24 [==============================] - 6s 250ms/step - loss: 0.3648 - accuracy: 0.8500 - val_loss: 0.5938 - val_accuracy: 0.5977\n",
            "Epoch 16/20\n",
            "24/24 [==============================] - 6s 250ms/step - loss: 0.4242 - accuracy: 0.8250 - val_loss: 0.5750 - val_accuracy: 0.5977\n",
            "Epoch 17/20\n",
            "24/24 [==============================] - 6s 250ms/step - loss: 0.3839 - accuracy: 0.8250 - val_loss: 0.5791 - val_accuracy: 0.6322\n",
            "Epoch 18/20\n",
            "24/24 [==============================] - 6s 250ms/step - loss: 0.3958 - accuracy: 0.8208 - val_loss: 0.7248 - val_accuracy: 0.5632\n",
            "Epoch 19/20\n",
            "24/24 [==============================] - 6s 250ms/step - loss: 0.3991 - accuracy: 0.8083 - val_loss: 0.7708 - val_accuracy: 0.5517\n",
            "Epoch 20/20\n",
            "24/24 [==============================] - 6s 248ms/step - loss: 0.3691 - accuracy: 0.8458 - val_loss: 0.5911 - val_accuracy: 0.5977\n"
          ],
          "name": "stdout"
        }
      ]
    },
    {
      "cell_type": "code",
      "metadata": {
        "id": "6NFCEVUSGDwe",
        "colab_type": "code",
        "colab": {
          "base_uri": "https://localhost:8080/",
          "height": 513
        },
        "outputId": "94371f69-7834-4fcc-aaa7-172049709ece"
      },
      "source": [
        "plot_results(resnet_rmsprop_static_history)"
      ],
      "execution_count": null,
      "outputs": [
        {
          "output_type": "display_data",
          "data": {
            "image/png": "[encoded data removed]",
            "text/plain": [
              "<Figure size 432x288 with 1 Axes>"
            ]
          },
          "metadata": {
            "tags": [],
            "needs_background": "light"
          }
        },
        {
          "output_type": "display_data",
          "data": {
            "image/png": "[encoded data removed]",
            "text/plain": [
              "<Figure size 432x288 with 1 Axes>"
            ]
          },
          "metadata": {
            "tags": [],
            "needs_background": "light"
          }
        }
      ]
    },
    {
      "cell_type": "code",
      "metadata": {
        "id": "3K29cEZUGFVx",
        "colab_type": "code",
        "colab": {
          "base_uri": "https://localhost:8080/",
          "height": 54
        },
        "outputId": "549e03d1-135d-4749-af42-b813a34cac83"
      },
      "source": [
        "val_results(resnet_rmsprop_static)"
      ],
      "execution_count": null,
      "outputs": [
        {
          "output_type": "stream",
          "text": [
            "Hockey Test Acc:  0.79 \tCount:  79 \n",
            "Movies Test Acc:  0.5 \tCount:  5\n"
          ],
          "name": "stdout"
        }
      ]
    },
    {
      "cell_type": "code",
      "metadata": {
        "colab_type": "code",
        "id": "d9u7NMauJaF9",
        "colab": {
          "base_uri": "https://localhost:8080/",
          "height": 35
        },
        "outputId": "de9791a1-2550-46c2-c110-775826f3a398"
      },
      "source": [
        "fvideo , flabels = extract_frames_difference(traindf)"
      ],
      "execution_count": null,
      "outputs": [
        {
          "output_type": "stream",
          "text": [
            "Video Processed 250/250"
          ],
          "name": "stdout"
        }
      ]
    },
    {
      "cell_type": "code",
      "metadata": {
        "colab_type": "code",
        "id": "nNvJCPGtJaGU",
        "colab": {
          "base_uri": "https://localhost:8080/",
          "height": 35
        },
        "outputId": "20b150c1-a7f2-455d-9e44-18b96630a372"
      },
      "source": [
        "tvideo , tlabels = extract_frames_difference(valdf)"
      ],
      "execution_count": null,
      "outputs": [
        {
          "output_type": "stream",
          "text": [
            "Video Processed 88/88"
          ],
          "name": "stdout"
        }
      ]
    },
    {
      "cell_type": "code",
      "metadata": {
        "colab_type": "code",
        "id": "H-KlujirJaGh",
        "colab": {}
      },
      "source": [
        "flabels = flabels.astype('float16')\n",
        "#flabels = to_categorical(flabels ,num_classes=2)\n",
        "\n",
        "tlabels = tlabels.astype('float16')\n",
        "#tlabels = to_categorical(tlabels ,num_classes=2)"
      ],
      "execution_count": null,
      "outputs": []
    },
    {
      "cell_type": "code",
      "metadata": {
        "colab_type": "code",
        "id": "7tnOgJ-KJaGs",
        "colab": {
          "base_uri": "https://localhost:8080/",
          "height": 90
        },
        "outputId": "08de0be4-2dbf-48c6-a79c-150fc4996f60"
      },
      "source": [
        "print(fvideo.shape)\n",
        "print(flabels.shape)\n",
        "\n",
        "print(tvideo.shape)\n",
        "print(tlabels.shape)"
      ],
      "execution_count": null,
      "outputs": [
        {
          "output_type": "stream",
          "text": [
            "(240, 10, 160, 160, 3)\n",
            "(240,)\n",
            "(87, 10, 160, 160, 3)\n",
            "(87,)\n"
          ],
          "name": "stdout"
        }
      ]
    },
    {
      "cell_type": "code",
      "metadata": {
        "colab_type": "code",
        "id": "vF5SSlMdJaG1",
        "colab": {
          "base_uri": "https://localhost:8080/",
          "height": 35
        },
        "outputId": "525b676f-08b2-46e7-ffd5-94e4ac46efeb"
      },
      "source": [
        "hockey_video , hockey_labels = extract_frames_difference(dtframe,300,400)"
      ],
      "execution_count": null,
      "outputs": [
        {
          "output_type": "stream",
          "text": [
            "Video Processed 100/100"
          ],
          "name": "stdout"
        }
      ]
    },
    {
      "cell_type": "code",
      "metadata": {
        "colab_type": "code",
        "id": "7zrmmK2pJaG9",
        "colab": {
          "base_uri": "https://localhost:8080/",
          "height": 35
        },
        "outputId": "7a0a69e3-2e4a-48fd-9fa4-c57bec2a714f"
      },
      "source": [
        "movies_video , movies_labels = extract_frames_difference(dtframe2,189,199)"
      ],
      "execution_count": null,
      "outputs": [
        {
          "output_type": "stream",
          "text": [
            "Video Processed 10/10"
          ],
          "name": "stdout"
        }
      ]
    },
    {
      "cell_type": "code",
      "metadata": {
        "colab_type": "code",
        "id": "hBLOsv-9JaHI",
        "colab": {
          "base_uri": "https://localhost:8080/",
          "height": 90
        },
        "outputId": "f274134a-4342-4f40-f298-72b3a33785c8"
      },
      "source": [
        "print(hockey_video.shape)\n",
        "print(hockey_labels.shape)\n",
        "\n",
        "print(movies_video.shape)\n",
        "print(movies_labels.shape)"
      ],
      "execution_count": null,
      "outputs": [
        {
          "output_type": "stream",
          "text": [
            "(100, 10, 160, 160, 3)\n",
            "(100,)\n",
            "(10, 10, 160, 160, 3)\n",
            "(10,)\n"
          ],
          "name": "stdout"
        }
      ]
    },
    {
      "cell_type": "code",
      "metadata": {
        "id": "kybxJ894GHP0",
        "colab_type": "code",
        "colab": {}
      },
      "source": [
        "'''\n",
        "  Defining the second model which uses the difference between frames to classify the action\n",
        "'''\n",
        "def CNN_CONVLSTM(model_arch, opt, retrain ,init_weights = 'imagenet'):\n",
        "\n",
        "    input_shapes=(int(NUMBER_OF_FRAMES/2),IMAGE_SIZE,IMAGE_SIZE,3)\n",
        "\n",
        "    if model_arch is 'Vgg19':\n",
        "      base_model=VGG19(include_top=False,weights= init_weights ,input_shape=(IMAGE_SIZE, IMAGE_SIZE,3))\n",
        "    elif model_arch is 'Resnet':\n",
        "      base_model = ResNet50(include_top=False,weights=init_weights ,input_shape=(IMAGE_SIZE, IMAGE_SIZE,3))\n",
        "\n",
        "    for layer in base_model.layers:\n",
        "        layer.trainable = retrain\n",
        "\n",
        "    cnn = TimeDistributed(base_model,  input_shape=input_shapes)\n",
        "    \n",
        "    model = Sequential()\n",
        "    model.add(cnn)\n",
        "    #model.add(TimeDistributed(Flatten()))\n",
        "\n",
        "    \n",
        "    model.add(ConvLSTM2D(filters=20, kernel_size=(3, 3),return_sequences=True))\n",
        "    model.add(Flatten())\n",
        "    model.add(BatchNormalization())\n",
        "    model.add(Dense(256, activation='relu'))\n",
        "    model.add(BatchNormalization())\n",
        "    model.add(Dropout(0.5))\n",
        "    model.add(Dense(128, activation='relu'))\n",
        "    model.add(BatchNormalization())\n",
        "    model.add(Dense(1, activation=\"sigmoid\"))\n",
        "\n",
        "    if opt is 'Adam':\n",
        "      opti = Adam(lr=0.00001)\n",
        "    elif opt is 'Sgd':\n",
        "      opti = SGD(lr=0.00001)\n",
        "    elif opt is 'RMSprop':\n",
        "      opti = RMSprop(lr=0.00001)\n",
        "\n",
        "    model.compile(loss='BinaryCrossentropy', optimizer= opti, metrics=[\"accuracy\"])\n",
        "\n",
        "    return model"
      ],
      "execution_count": null,
      "outputs": []
    },
    {
      "cell_type": "code",
      "metadata": {
        "id": "aNlyliWvJNSI",
        "colab_type": "code",
        "colab": {
          "base_uri": "https://localhost:8080/",
          "height": 827
        },
        "outputId": "29f3eeff-de0d-4171-d6f5-95b57a459c7d"
      },
      "source": [
        "diff_vgg_rmsprop_retrain = CNN_CONVLSTM('Vgg19', 'RMSprop', True)\n",
        "diff_vgg_rmsprop_retrain_history = diff_vgg_rmsprop_retrain.fit(fvideo,flabels, batch_size=10, epochs=20, validation_data=(tvideo , tlabels))"
      ],
      "execution_count": null,
      "outputs": [
        {
          "output_type": "stream",
          "text": [
            "Downloading data from https://storage.googleapis.com/tensorflow/keras-applications/vgg19/vgg19_weights_tf_dim_ordering_tf_kernels_notop.h5\n",
            "80142336/80134624 [==============================] - 1s 0us/step\n",
            "Epoch 1/20\n",
            " 2/24 [=>............................] - ETA: 5s - loss: 0.5413 - accuracy: 0.7500WARNING:tensorflow:Callbacks method `on_train_batch_end` is slow compared to the batch time (batch time: 0.1833s vs `on_train_batch_end` time: 0.3466s). Check your callbacks.\n",
            "24/24 [==============================] - 15s 622ms/step - loss: 0.6479 - accuracy: 0.6708 - val_loss: 0.6626 - val_accuracy: 0.6897\n",
            "Epoch 2/20\n",
            "24/24 [==============================] - 14s 569ms/step - loss: 0.4375 - accuracy: 0.8000 - val_loss: 0.6565 - val_accuracy: 0.5517\n",
            "Epoch 3/20\n",
            "24/24 [==============================] - 14s 569ms/step - loss: 0.3273 - accuracy: 0.8667 - val_loss: 0.6280 - val_accuracy: 0.5057\n",
            "Epoch 4/20\n",
            "24/24 [==============================] - 14s 569ms/step - loss: 0.3628 - accuracy: 0.8417 - val_loss: 0.6329 - val_accuracy: 0.5057\n",
            "Epoch 5/20\n",
            "24/24 [==============================] - 14s 568ms/step - loss: 0.2520 - accuracy: 0.8875 - val_loss: 0.6334 - val_accuracy: 0.5057\n",
            "Epoch 6/20\n",
            "24/24 [==============================] - 14s 568ms/step - loss: 0.2623 - accuracy: 0.8917 - val_loss: 0.5852 - val_accuracy: 0.5517\n",
            "Epoch 7/20\n",
            "24/24 [==============================] - 14s 569ms/step - loss: 0.2120 - accuracy: 0.9292 - val_loss: 0.6353 - val_accuracy: 0.5057\n",
            "Epoch 8/20\n",
            "24/24 [==============================] - 14s 569ms/step - loss: 0.2230 - accuracy: 0.9125 - val_loss: 0.6406 - val_accuracy: 0.5402\n",
            "Epoch 9/20\n",
            "24/24 [==============================] - 14s 569ms/step - loss: 0.1877 - accuracy: 0.9458 - val_loss: 0.5870 - val_accuracy: 0.5402\n",
            "Epoch 10/20\n",
            "24/24 [==============================] - 14s 568ms/step - loss: 0.2067 - accuracy: 0.9208 - val_loss: 0.5724 - val_accuracy: 0.5747\n",
            "Epoch 11/20\n",
            "24/24 [==============================] - 14s 569ms/step - loss: 0.1782 - accuracy: 0.9542 - val_loss: 0.5833 - val_accuracy: 0.5632\n",
            "Epoch 12/20\n",
            "24/24 [==============================] - 14s 569ms/step - loss: 0.1995 - accuracy: 0.9375 - val_loss: 0.5720 - val_accuracy: 0.5862\n",
            "Epoch 13/20\n",
            "24/24 [==============================] - 14s 569ms/step - loss: 0.1401 - accuracy: 0.9583 - val_loss: 0.4475 - val_accuracy: 0.7931\n",
            "Epoch 14/20\n",
            "24/24 [==============================] - 14s 569ms/step - loss: 0.1081 - accuracy: 0.9750 - val_loss: 0.3575 - val_accuracy: 0.8966\n",
            "Epoch 15/20\n",
            "24/24 [==============================] - 14s 570ms/step - loss: 0.1079 - accuracy: 0.9583 - val_loss: 0.2809 - val_accuracy: 0.9310\n",
            "Epoch 16/20\n",
            "24/24 [==============================] - 14s 569ms/step - loss: 0.0890 - accuracy: 0.9875 - val_loss: 0.2288 - val_accuracy: 0.9540\n",
            "Epoch 17/20\n",
            "24/24 [==============================] - 14s 570ms/step - loss: 0.1009 - accuracy: 0.9708 - val_loss: 0.2834 - val_accuracy: 0.9080\n",
            "Epoch 18/20\n",
            "24/24 [==============================] - 14s 571ms/step - loss: 0.0707 - accuracy: 0.9792 - val_loss: 0.2948 - val_accuracy: 0.8851\n",
            "Epoch 19/20\n",
            "24/24 [==============================] - 14s 569ms/step - loss: 0.0628 - accuracy: 0.9875 - val_loss: 0.1965 - val_accuracy: 0.9425\n",
            "Epoch 20/20\n",
            "24/24 [==============================] - 14s 569ms/step - loss: 0.0485 - accuracy: 0.9958 - val_loss: 0.1972 - val_accuracy: 0.9310\n"
          ],
          "name": "stdout"
        }
      ]
    },
    {
      "cell_type": "code",
      "metadata": {
        "id": "FY_GW7or0sNQ",
        "colab_type": "code",
        "colab": {}
      },
      "source": [
        "diff_vgg_rmsprop_retrain.save(\"ViolenceDetection.h5\")"
      ],
      "execution_count": null,
      "outputs": []
    },
    {
      "cell_type": "code",
      "metadata": {
        "id": "NSaqxKANLzmm",
        "colab_type": "code",
        "colab": {
          "base_uri": "https://localhost:8080/",
          "height": 517
        },
        "outputId": "2b6d482f-7ea5-4a0c-a56e-baf16f4d859e"
      },
      "source": [
        "plot_results(diff_vgg_rmsprop_retrain_history)"
      ],
      "execution_count": null,
      "outputs": [
        {
          "output_type": "display_data",
          "data": {
            "image/png": "[encoded data removed]",
            "text/plain": [
              "<Figure size 432x288 with 1 Axes>"
            ]
          },
          "metadata": {
            "tags": [],
            "needs_background": "light"
          }
        },
        {
          "output_type": "display_data",
          "data": {
            "image/png": "[encoded data removed]",
            "text/plain": [
              "<Figure size 432x288 with 1 Axes>"
            ]
          },
          "metadata": {
            "tags": [],
            "needs_background": "light"
          }
        }
      ]
    },
    {
      "cell_type": "code",
      "metadata": {
        "id": "DTkEWNy6L4CI",
        "colab_type": "code",
        "colab": {
          "base_uri": "https://localhost:8080/",
          "height": 54
        },
        "outputId": "4ab094a1-5be3-4f02-c193-438a6a85bfab"
      },
      "source": [
        "val_results(diff_vgg_rmsprop_retrain)"
      ],
      "execution_count": null,
      "outputs": [
        {
          "output_type": "stream",
          "text": [
            "Hockey Test Acc:  0.85 \tCount:  85 \n",
            "Movies Test Acc:  1.0 \tCount:  10\n"
          ],
          "name": "stdout"
        }
      ]
    },
    {
      "cell_type": "code",
      "metadata": {
        "id": "d1oAjiDlN1Uz",
        "colab_type": "code",
        "colab": {
          "base_uri": "https://localhost:8080/",
          "height": 752
        },
        "outputId": "d34d46c8-0d00-4be6-a8b4-db83064ee438"
      },
      "source": [
        "diff_vgg_rmsprop_static = CNN_CONVLSTM('Vgg19', 'RMSprop', False)\n",
        "diff_vgg_rmsprop_static_history = diff_vgg_rmsprop_static.fit(fvideo,flabels, batch_size=10, epochs=20, validation_data=(tvideo , tlabels))"
      ],
      "execution_count": null,
      "outputs": [
        {
          "output_type": "stream",
          "text": [
            "Epoch 1/20\n",
            "24/24 [==============================] - 7s 307ms/step - loss: 0.7958 - accuracy: 0.5625 - val_loss: 0.7039 - val_accuracy: 0.4828\n",
            "Epoch 2/20\n",
            "24/24 [==============================] - 7s 289ms/step - loss: 0.7007 - accuracy: 0.6375 - val_loss: 0.6982 - val_accuracy: 0.4828\n",
            "Epoch 3/20\n",
            "24/24 [==============================] - 7s 290ms/step - loss: 0.6849 - accuracy: 0.6083 - val_loss: 0.6932 - val_accuracy: 0.5057\n",
            "Epoch 4/20\n",
            "24/24 [==============================] - 7s 290ms/step - loss: 0.6673 - accuracy: 0.6375 - val_loss: 0.6868 - val_accuracy: 0.5172\n",
            "Epoch 5/20\n",
            "24/24 [==============================] - 7s 290ms/step - loss: 0.5696 - accuracy: 0.7125 - val_loss: 0.6858 - val_accuracy: 0.5172\n",
            "Epoch 6/20\n",
            "24/24 [==============================] - 7s 290ms/step - loss: 0.4609 - accuracy: 0.7917 - val_loss: 0.6724 - val_accuracy: 0.5287\n",
            "Epoch 7/20\n",
            "24/24 [==============================] - 7s 290ms/step - loss: 0.4875 - accuracy: 0.7625 - val_loss: 0.6621 - val_accuracy: 0.5287\n",
            "Epoch 8/20\n",
            "24/24 [==============================] - 7s 290ms/step - loss: 0.4773 - accuracy: 0.7917 - val_loss: 0.6480 - val_accuracy: 0.5632\n",
            "Epoch 9/20\n",
            "24/24 [==============================] - 7s 290ms/step - loss: 0.4268 - accuracy: 0.8000 - val_loss: 0.6383 - val_accuracy: 0.5747\n",
            "Epoch 10/20\n",
            "24/24 [==============================] - 7s 290ms/step - loss: 0.4213 - accuracy: 0.8083 - val_loss: 0.6222 - val_accuracy: 0.5747\n",
            "Epoch 11/20\n",
            "24/24 [==============================] - 7s 290ms/step - loss: 0.3695 - accuracy: 0.8417 - val_loss: 0.5960 - val_accuracy: 0.5977\n",
            "Epoch 12/20\n",
            "24/24 [==============================] - 7s 291ms/step - loss: 0.3815 - accuracy: 0.8333 - val_loss: 0.5682 - val_accuracy: 0.6207\n",
            "Epoch 13/20\n",
            "24/24 [==============================] - 7s 292ms/step - loss: 0.3404 - accuracy: 0.8667 - val_loss: 0.5383 - val_accuracy: 0.6897\n",
            "Epoch 14/20\n",
            "24/24 [==============================] - 7s 290ms/step - loss: 0.3136 - accuracy: 0.8750 - val_loss: 0.5084 - val_accuracy: 0.7471\n",
            "Epoch 15/20\n",
            "24/24 [==============================] - 7s 290ms/step - loss: 0.2903 - accuracy: 0.8792 - val_loss: 0.4818 - val_accuracy: 0.7586\n",
            "Epoch 16/20\n",
            "24/24 [==============================] - 7s 289ms/step - loss: 0.2986 - accuracy: 0.8875 - val_loss: 0.4596 - val_accuracy: 0.7701\n",
            "Epoch 17/20\n",
            "24/24 [==============================] - 7s 290ms/step - loss: 0.2958 - accuracy: 0.8833 - val_loss: 0.4245 - val_accuracy: 0.8046\n",
            "Epoch 18/20\n",
            "24/24 [==============================] - 7s 290ms/step - loss: 0.2729 - accuracy: 0.9083 - val_loss: 0.3971 - val_accuracy: 0.8276\n",
            "Epoch 19/20\n",
            "24/24 [==============================] - 7s 290ms/step - loss: 0.2327 - accuracy: 0.9083 - val_loss: 0.3786 - val_accuracy: 0.8161\n",
            "Epoch 20/20\n",
            "24/24 [==============================] - 7s 290ms/step - loss: 0.2827 - accuracy: 0.8958 - val_loss: 0.3577 - val_accuracy: 0.8736\n"
          ],
          "name": "stdout"
        }
      ]
    },
    {
      "cell_type": "code",
      "metadata": {
        "id": "ZsAQ5D0yEoRR",
        "colab_type": "code",
        "colab": {
          "base_uri": "https://localhost:8080/",
          "height": 513
        },
        "outputId": "9747f777-4dd7-4fb5-8b3b-8b2953590dc7"
      },
      "source": [
        "plot_results(diff_vgg_rmsprop_static_history)"
      ],
      "execution_count": null,
      "outputs": [
        {
          "output_type": "display_data",
          "data": {
            "image/png": "[encoded data removed]",
            "text/plain": [
              "<Figure size 432x288 with 1 Axes>"
            ]
          },
          "metadata": {
            "tags": [],
            "needs_background": "light"
          }
        },
        {
          "output_type": "display_data",
          "data": {
            "image/png": "[encoded data removed]",
            "text/plain": [
              "<Figure size 432x288 with 1 Axes>"
            ]
          },
          "metadata": {
            "tags": [],
            "needs_background": "light"
          }
        }
      ]
    },
    {
      "cell_type": "code",
      "metadata": {
        "id": "Yy8_K1kbErlB",
        "colab_type": "code",
        "colab": {
          "base_uri": "https://localhost:8080/",
          "height": 54
        },
        "outputId": "fc77f86c-d067-4adf-ec48-ffc37eca1878"
      },
      "source": [
        "val_results(diff_vgg_rmsprop_static)"
      ],
      "execution_count": null,
      "outputs": [
        {
          "output_type": "stream",
          "text": [
            "Hockey Test Acc:  0.76 \tCount:  76 \n",
            "Movies Test Acc:  1.0 \tCount:  10\n"
          ],
          "name": "stdout"
        }
      ]
    },
    {
      "cell_type": "code",
      "metadata": {
        "id": "lR-cnx5KEt4y",
        "colab_type": "code",
        "colab": {
          "base_uri": "https://localhost:8080/",
          "height": 752
        },
        "outputId": "4d26d7bc-c6f3-4a6e-983f-d920e2864add"
      },
      "source": [
        "diff_vgg_adam_retrain = CNN_CONVLSTM('Vgg19', 'Adam', True)\n",
        "diff_vgg_adam_retrain_history = diff_vgg_adam_retrain.fit(fvideo,flabels, batch_size=10, epochs=20, validation_data=(tvideo , tlabels))"
      ],
      "execution_count": null,
      "outputs": [
        {
          "output_type": "stream",
          "text": [
            "Epoch 1/20\n",
            "24/24 [==============================] - 16s 685ms/step - loss: 0.7708 - accuracy: 0.5500 - val_loss: 0.6558 - val_accuracy: 0.7701\n",
            "Epoch 2/20\n",
            "24/24 [==============================] - 16s 667ms/step - loss: 0.5318 - accuracy: 0.7292 - val_loss: 0.6675 - val_accuracy: 0.5057\n",
            "Epoch 3/20\n",
            "24/24 [==============================] - 16s 667ms/step - loss: 0.3979 - accuracy: 0.8083 - val_loss: 0.6982 - val_accuracy: 0.5057\n",
            "Epoch 4/20\n",
            "24/24 [==============================] - 16s 667ms/step - loss: 0.3150 - accuracy: 0.8833 - val_loss: 0.7642 - val_accuracy: 0.5057\n",
            "Epoch 5/20\n",
            "24/24 [==============================] - 16s 668ms/step - loss: 0.3076 - accuracy: 0.9042 - val_loss: 0.7271 - val_accuracy: 0.5057\n",
            "Epoch 6/20\n",
            "24/24 [==============================] - 16s 668ms/step - loss: 0.3237 - accuracy: 0.8625 - val_loss: 0.7139 - val_accuracy: 0.5057\n",
            "Epoch 7/20\n",
            "24/24 [==============================] - 16s 666ms/step - loss: 0.2487 - accuracy: 0.9167 - val_loss: 0.7360 - val_accuracy: 0.5057\n",
            "Epoch 8/20\n",
            "24/24 [==============================] - 16s 666ms/step - loss: 0.1736 - accuracy: 0.9542 - val_loss: 0.6959 - val_accuracy: 0.5057\n",
            "Epoch 9/20\n",
            "24/24 [==============================] - 16s 666ms/step - loss: 0.1980 - accuracy: 0.9250 - val_loss: 0.6343 - val_accuracy: 0.5402\n",
            "Epoch 10/20\n",
            "24/24 [==============================] - 16s 666ms/step - loss: 0.1470 - accuracy: 0.9625 - val_loss: 0.5819 - val_accuracy: 0.5517\n",
            "Epoch 11/20\n",
            "24/24 [==============================] - 16s 668ms/step - loss: 0.1491 - accuracy: 0.9625 - val_loss: 0.7099 - val_accuracy: 0.5057\n",
            "Epoch 12/20\n",
            "24/24 [==============================] - 16s 668ms/step - loss: 0.1486 - accuracy: 0.9542 - val_loss: 0.6527 - val_accuracy: 0.5287\n",
            "Epoch 13/20\n",
            "24/24 [==============================] - 16s 667ms/step - loss: 0.0928 - accuracy: 0.9833 - val_loss: 0.5570 - val_accuracy: 0.6437\n",
            "Epoch 14/20\n",
            "24/24 [==============================] - 16s 667ms/step - loss: 0.0883 - accuracy: 0.9833 - val_loss: 0.5103 - val_accuracy: 0.7241\n",
            "Epoch 15/20\n",
            "24/24 [==============================] - 16s 668ms/step - loss: 0.1176 - accuracy: 0.9583 - val_loss: 0.3782 - val_accuracy: 0.8276\n",
            "Epoch 16/20\n",
            "24/24 [==============================] - 16s 666ms/step - loss: 0.1245 - accuracy: 0.9667 - val_loss: 0.3104 - val_accuracy: 0.8851\n",
            "Epoch 17/20\n",
            "24/24 [==============================] - 16s 666ms/step - loss: 0.1115 - accuracy: 0.9792 - val_loss: 0.4168 - val_accuracy: 0.7931\n",
            "Epoch 18/20\n",
            "24/24 [==============================] - 16s 666ms/step - loss: 0.0942 - accuracy: 0.9792 - val_loss: 0.3774 - val_accuracy: 0.8391\n",
            "Epoch 19/20\n",
            "24/24 [==============================] - 16s 666ms/step - loss: 0.0619 - accuracy: 0.9958 - val_loss: 0.3510 - val_accuracy: 0.9080\n",
            "Epoch 20/20\n",
            "24/24 [==============================] - 16s 665ms/step - loss: 0.0712 - accuracy: 0.9833 - val_loss: 0.2256 - val_accuracy: 0.9080\n"
          ],
          "name": "stdout"
        }
      ]
    },
    {
      "cell_type": "code",
      "metadata": {
        "id": "gQnQpaK0QeX3",
        "colab_type": "code",
        "colab": {
          "base_uri": "https://localhost:8080/",
          "height": 516
        },
        "outputId": "155a8f2b-4482-446e-9e68-81c2108c1352"
      },
      "source": [
        "plot_results(diff_vgg_adam_retrain_history)"
      ],
      "execution_count": null,
      "outputs": [
        {
          "output_type": "display_data",
          "data": {
            "image/png": "[encoded data removed]",
            "text/plain": [
              "<Figure size 432x288 with 1 Axes>"
            ]
          },
          "metadata": {
            "tags": [],
            "needs_background": "light"
          }
        },
        {
          "output_type": "display_data",
          "data": {
            "image/png": "[encoded data removed]",
            "text/plain": [
              "<Figure size 432x288 with 1 Axes>"
            ]
          },
          "metadata": {
            "tags": [],
            "needs_background": "light"
          }
        }
      ]
    },
    {
      "cell_type": "code",
      "metadata": {
        "id": "cN2ShAo7Qjrg",
        "colab_type": "code",
        "colab": {
          "base_uri": "https://localhost:8080/",
          "height": 54
        },
        "outputId": "416bdc85-7db6-4377-bc5c-b0380472d47f"
      },
      "source": [
        "val_results(diff_vgg_adam_retrain)"
      ],
      "execution_count": null,
      "outputs": [
        {
          "output_type": "stream",
          "text": [
            "Hockey Test Acc:  0.74 \tCount:  74 \n",
            "Movies Test Acc:  1.0 \tCount:  10\n"
          ],
          "name": "stdout"
        }
      ]
    },
    {
      "cell_type": "code",
      "metadata": {
        "id": "8c2PisUJLM9V",
        "colab_type": "code",
        "colab": {
          "base_uri": "https://localhost:8080/",
          "height": 752
        },
        "outputId": "bd0dccf7-309c-479c-813c-41a5577e4fd1"
      },
      "source": [
        "diff_resnet_rmsprop_retrain = CNN_CONVLSTM('Resnet', 'RMSprop', True)\n",
        "diff_resnet_rmsprop_retrain_history = diff_resnet_rmsprop_retrain.fit(fvideo,flabels, batch_size=20, epochs=20, validation_data=(tvideo , tlabels))"
      ],
      "execution_count": null,
      "outputs": [
        {
          "output_type": "stream",
          "text": [
            "Epoch 1/20\n",
            "12/12 [==============================] - 10s 819ms/step - loss: 0.8767 - accuracy: 0.5208 - val_loss: 0.7396 - val_accuracy: 0.4943\n",
            "Epoch 2/20\n",
            "12/12 [==============================] - 8s 703ms/step - loss: 0.6773 - accuracy: 0.6333 - val_loss: 0.7207 - val_accuracy: 0.3793\n",
            "Epoch 3/20\n",
            "12/12 [==============================] - 8s 703ms/step - loss: 0.4418 - accuracy: 0.7792 - val_loss: 0.7048 - val_accuracy: 0.3103\n",
            "Epoch 4/20\n",
            "12/12 [==============================] - 8s 703ms/step - loss: 0.4091 - accuracy: 0.8125 - val_loss: 0.7058 - val_accuracy: 0.5057\n",
            "Epoch 5/20\n",
            "12/12 [==============================] - 8s 703ms/step - loss: 0.3106 - accuracy: 0.8708 - val_loss: 0.7034 - val_accuracy: 0.4943\n",
            "Epoch 6/20\n",
            "12/12 [==============================] - 8s 702ms/step - loss: 0.2712 - accuracy: 0.9042 - val_loss: 0.7042 - val_accuracy: 0.4828\n",
            "Epoch 7/20\n",
            "12/12 [==============================] - 8s 703ms/step - loss: 0.2083 - accuracy: 0.9417 - val_loss: 0.7065 - val_accuracy: 0.4943\n",
            "Epoch 8/20\n",
            "12/12 [==============================] - 8s 703ms/step - loss: 0.1978 - accuracy: 0.9708 - val_loss: 0.6809 - val_accuracy: 0.5287\n",
            "Epoch 9/20\n",
            "12/12 [==============================] - 8s 703ms/step - loss: 0.1459 - accuracy: 0.9625 - val_loss: 0.6701 - val_accuracy: 0.5517\n",
            "Epoch 10/20\n",
            "12/12 [==============================] - 8s 703ms/step - loss: 0.1702 - accuracy: 0.9542 - val_loss: 0.6675 - val_accuracy: 0.6092\n",
            "Epoch 11/20\n",
            "12/12 [==============================] - 8s 703ms/step - loss: 0.1075 - accuracy: 1.0000 - val_loss: 0.6674 - val_accuracy: 0.6092\n",
            "Epoch 12/20\n",
            "12/12 [==============================] - 8s 703ms/step - loss: 0.1056 - accuracy: 0.9792 - val_loss: 0.6778 - val_accuracy: 0.5747\n",
            "Epoch 13/20\n",
            "12/12 [==============================] - 8s 702ms/step - loss: 0.1004 - accuracy: 0.9833 - val_loss: 0.6787 - val_accuracy: 0.5977\n",
            "Epoch 14/20\n",
            "12/12 [==============================] - 8s 703ms/step - loss: 0.0838 - accuracy: 0.9958 - val_loss: 0.6728 - val_accuracy: 0.5402\n",
            "Epoch 15/20\n",
            "12/12 [==============================] - 8s 703ms/step - loss: 0.0744 - accuracy: 1.0000 - val_loss: 0.6669 - val_accuracy: 0.5402\n",
            "Epoch 16/20\n",
            "12/12 [==============================] - 8s 703ms/step - loss: 0.0901 - accuracy: 0.9833 - val_loss: 0.6755 - val_accuracy: 0.5057\n",
            "Epoch 17/20\n",
            "12/12 [==============================] - 8s 702ms/step - loss: 0.0517 - accuracy: 0.9958 - val_loss: 0.7006 - val_accuracy: 0.5287\n",
            "Epoch 18/20\n",
            "12/12 [==============================] - 8s 703ms/step - loss: 0.0744 - accuracy: 0.9917 - val_loss: 0.7515 - val_accuracy: 0.4943\n",
            "Epoch 19/20\n",
            "12/12 [==============================] - 8s 702ms/step - loss: 0.0791 - accuracy: 0.9917 - val_loss: 0.7657 - val_accuracy: 0.4943\n",
            "Epoch 20/20\n",
            "12/12 [==============================] - 8s 701ms/step - loss: 0.0513 - accuracy: 0.9917 - val_loss: 0.7432 - val_accuracy: 0.5172\n"
          ],
          "name": "stdout"
        }
      ]
    },
    {
      "cell_type": "code",
      "metadata": {
        "id": "ym5a3_qBSD1c",
        "colab_type": "code",
        "colab": {
          "base_uri": "https://localhost:8080/",
          "height": 513
        },
        "outputId": "be92dd20-7f74-4891-8bc0-83029210047e"
      },
      "source": [
        "plot_results(diff_resnet_rmsprop_retrain_history)"
      ],
      "execution_count": null,
      "outputs": [
        {
          "output_type": "display_data",
          "data": {
            "image/png": "[encoded data removed]",
            "text/plain": [
              "<Figure size 432x288 with 1 Axes>"
            ]
          },
          "metadata": {
            "tags": [],
            "needs_background": "light"
          }
        },
        {
          "output_type": "display_data",
          "data": {
            "image/png": "[encoded data removed]",
            "text/plain": [
              "<Figure size 432x288 with 1 Axes>"
            ]
          },
          "metadata": {
            "tags": [],
            "needs_background": "light"
          }
        }
      ]
    },
    {
      "cell_type": "code",
      "metadata": {
        "id": "AM-ctFYdSGSU",
        "colab_type": "code",
        "colab": {
          "base_uri": "https://localhost:8080/",
          "height": 54
        },
        "outputId": "56d9edb3-cc00-4614-e633-c6cd4efd36b3"
      },
      "source": [
        "val_results(diff_resnet_rmsprop_retrain)"
      ],
      "execution_count": null,
      "outputs": [
        {
          "output_type": "stream",
          "text": [
            "Hockey Test Acc:  0.54 \tCount:  54 \n",
            "Movies Test Acc:  0.5 \tCount:  5\n"
          ],
          "name": "stdout"
        }
      ]
    },
    {
      "cell_type": "code",
      "metadata": {
        "id": "fZHJvKgFmfIL",
        "colab_type": "code",
        "colab": {}
      },
      "source": [
        ""
      ],
      "execution_count": null,
      "outputs": []
    }
  ]
}