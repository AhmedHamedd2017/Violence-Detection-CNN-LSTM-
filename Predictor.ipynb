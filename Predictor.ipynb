{
  "nbformat": 4,
  "nbformat_minor": 0,
  "metadata": {
    "colab": {
      "name": "Predictor.ipynb",
      "provenance": [],
      "collapsed_sections": []
    },
    "kernelspec": {
      "name": "python3",
      "display_name": "Python 3"
    }
  },
  "cells": [
    {
      "cell_type": "code",
      "metadata": {
        "id": "LWZwLOITw9Ei",
        "colab_type": "code",
        "colab": {
          "base_uri": "https://localhost:8080/",
          "height": 34
        },
        "outputId": "bfb0c403-521c-422c-994a-3d19e3f59ca1"
      },
      "source": [
        "'''\n",
        "  this part is responsible for the mounting of data from the drive into the\n",
        "  notebook and retrieving the testing data and models\n",
        "'''\n",
        "from google.colab import drive\n",
        "drive.mount('/content/drive/')\n",
        "\n",
        "!cp './drive/My Drive/Graduation project/PistolDetection.h5' /content\n",
        "!cp './drive/My Drive/Graduation project/ViolenceDetection.h5' /content\n",
        "\n",
        "!cp './drive/My Drive/Graduation project/Demo/mma.mp4' /content\n",
        "!cp './drive/My Drive/Graduation project/Demo/running.mpg' /content\n",
        "!cp './drive/My Drive/Graduation project/Demo/pistol.mp4' /content"
      ],
      "execution_count": null,
      "outputs": [
        {
          "output_type": "stream",
          "text": [
            "Drive already mounted at /content/drive/; to attempt to forcibly remount, call drive.mount(\"/content/drive/\", force_remount=True).\n"
          ],
          "name": "stdout"
        }
      ]
    },
    {
      "cell_type": "code",
      "metadata": {
        "id": "B-Ro88bjLFLS",
        "colab_type": "code",
        "colab": {
          "base_uri": "https://localhost:8080/",
          "height": 84
        },
        "outputId": "136e5edb-e9a4-442a-dbdf-0de5526eb822"
      },
      "source": [
        "'''\n",
        "  This part contains the used libraries and essintial parameters\n",
        "  such as frames and dimensions\n",
        "'''\n",
        "!pip install scikit-video\n",
        "#Used Libraries\n",
        "\n",
        "import numpy as np\n",
        "import cv2\n",
        "import skvideo.io\n",
        "import h5py\n",
        "from google.colab.patches import cv2_imshow\n",
        "import tensorflow\n",
        "from tensorflow.keras.models import load_model\n",
        "\n",
        "\n",
        "#Parameters\n",
        "NUMBER_OF_FRAMES = 20\n",
        "IMAGE_SIZE = 160\n",
        "IMAGE_CHANNELS = 3"
      ],
      "execution_count": null,
      "outputs": [
        {
          "output_type": "stream",
          "text": [
            "Requirement already satisfied: scikit-video in /usr/local/lib/python3.6/dist-packages (1.1.11)\n",
            "Requirement already satisfied: numpy in /usr/local/lib/python3.6/dist-packages (from scikit-video) (1.18.5)\n",
            "Requirement already satisfied: pillow in /usr/local/lib/python3.6/dist-packages (from scikit-video) (7.0.0)\n",
            "Requirement already satisfied: scipy in /usr/local/lib/python3.6/dist-packages (from scikit-video) (1.4.1)\n"
          ],
          "name": "stdout"
        }
      ]
    },
    {
      "cell_type": "code",
      "metadata": {
        "id": "lG3_QlbZxCtd",
        "colab_type": "code",
        "colab": {}
      },
      "source": [
        "ViolenceDetection = load_model('ViolenceDetection.h5')"
      ],
      "execution_count": null,
      "outputs": []
    },
    {
      "cell_type": "code",
      "metadata": {
        "id": "8QrTjrazLdNo",
        "colab_type": "code",
        "colab": {}
      },
      "source": [
        "PistolDetection = load_model('PistolDetection.h5')"
      ],
      "execution_count": null,
      "outputs": []
    },
    {
      "cell_type": "code",
      "metadata": {
        "id": "5mndUzBpNKdi",
        "colab_type": "code",
        "colab": {}
      },
      "source": [
        "'''\n",
        "  This part is responsible for the cropping of the black frames from the videos\n",
        "'''\n",
        "def autocrop(image, threshold=0):\n",
        "    if len(image.shape) == 3:\n",
        "        flatImage = np.max(image, 2)\n",
        "    else:\n",
        "        flatImage = image\n",
        "    assert len(flatImage.shape) == 2\n",
        "\n",
        "    rows = np.where(np.max(flatImage, 0) > threshold)[0]\n",
        "    if rows.size:\n",
        "        cols = np.where(np.max(flatImage, 1) > threshold)[0]\n",
        "        image = image[cols[0]: cols[-1] + 1, rows[0]: rows[-1] + 1]\n",
        "    else:\n",
        "        image = image[:1, :1]\n",
        "\n",
        "    return image"
      ],
      "execution_count": null,
      "outputs": []
    },
    {
      "cell_type": "code",
      "metadata": {
        "id": "-En5vDdKNFtn",
        "colab_type": "code",
        "colab": {}
      },
      "source": [
        "'''\n",
        "  This part is responsible for resizing and scaling each frame of a video\n",
        "  - changing the image from BGR to RGB\n",
        "  - the scaling is from 0 to 1 by dividing each pixel value by 255\n",
        "  - resizing the images to the expected size in the parameters \n",
        "  - applying the autocrop method\n",
        "'''\n",
        "def scale_and_resize(image):\n",
        "  image = cv2.cvtColor(image, cv2.COLOR_BGR2RGB)\n",
        "  image = autocrop(image)\n",
        "  image = cv2.resize(image,(IMAGE_SIZE,IMAGE_SIZE))\n",
        "  image = image/255.0\n",
        "  return image.astype('float16')"
      ],
      "execution_count": null,
      "outputs": []
    },
    {
      "cell_type": "code",
      "metadata": {
        "id": "rl1hVOZVLqAe",
        "colab_type": "code",
        "colab": {}
      },
      "source": [
        "'''\n",
        "  Input parameter: Video name\n",
        "  Output: tensor of (SAMPLES,10,160,160,3) contains videos divided into frames \n",
        "  difference & array of all 20 frames for pistol detection\n",
        "'''\n",
        "def extract_frames(video_name):\n",
        "  output_videos = []\n",
        "\n",
        "  videodata = skvideo.io.vread(video_name)\n",
        "  steps = videodata.shape[0] // NUMBER_OF_FRAMES\n",
        "  new_images = []\n",
        "  scaled_images = []\n",
        "  new_diff = np.zeros((int(NUMBER_OF_FRAMES/2),IMAGE_SIZE,IMAGE_SIZE,IMAGE_CHANNELS))\n",
        "  count = 0\n",
        "\n",
        "  for j in range(NUMBER_OF_FRAMES):\n",
        "      new_images.append(videodata[j*steps])\n",
        "      scaled_images.append(scale_and_resize(videodata[j*steps]))\n",
        "\n",
        "  for j in range(0,NUMBER_OF_FRAMES,2):\n",
        "    new_diff[count] = scale_and_resize(cv2.absdiff(new_images[j],new_images[j+1]))\n",
        "    count += 1 \n",
        "  \n",
        "  output_videos.append(new_diff)\n",
        "  output_videos = np.array(output_videos)\n",
        "  scaled_images = np.array(scaled_images)\n",
        "  return output_videos , scaled_images"
      ],
      "execution_count": null,
      "outputs": []
    },
    {
      "cell_type": "code",
      "metadata": {
        "id": "GMfA1n_LQo5I",
        "colab_type": "code",
        "colab": {}
      },
      "source": [
        "'''\n",
        "  Input: Video name\n",
        "  Output: The result of the prediction\n",
        "'''\n",
        "def Violence_pistol_detection(videoname):\n",
        "  vid, img = extract_frames(videoname)\n",
        "\n",
        "  violence_res = ViolenceDetection(vid)\n",
        "  if violence_res > 0.6:\n",
        "    print(\"Violence Detected\")\n",
        "  else:\n",
        "    print(\"No Violence Detected\")\n",
        "\n",
        "  pistol_res = PistolDetection(img)\n",
        "  \n",
        "  count = 0\n",
        "  for i in range(len(pistol_res)):\n",
        "    if pistol_res[i] > 0.5:\n",
        "      count += 1\n",
        "\n",
        "  if count > 5:\n",
        "    print(\"Pistol Detected\")\n",
        "  else:\n",
        "    print(\"No Pistol Detected\")"
      ],
      "execution_count": null,
      "outputs": []
    },
    {
      "cell_type": "code",
      "metadata": {
        "id": "QL1pPSuqTeY8",
        "colab_type": "code",
        "colab": {
          "base_uri": "https://localhost:8080/",
          "height": 50
        },
        "outputId": "37436f94-7765-49d3-ce1a-033550d212e2"
      },
      "source": [
        "Violence_pistol_detection('mma.mp4')"
      ],
      "execution_count": null,
      "outputs": [
        {
          "output_type": "stream",
          "text": [
            "Violence Detected\n",
            "No Pistol Detected\n"
          ],
          "name": "stdout"
        }
      ]
    },
    {
      "cell_type": "code",
      "metadata": {
        "id": "jktwviVab39z",
        "colab_type": "code",
        "colab": {
          "base_uri": "https://localhost:8080/",
          "height": 50
        },
        "outputId": "750f1cfd-2733-46ec-813d-5a38a93ce453"
      },
      "source": [
        "Violence_pistol_detection('pistol.mp4')"
      ],
      "execution_count": null,
      "outputs": [
        {
          "output_type": "stream",
          "text": [
            "No Violence Detected\n",
            "Pistol Detected\n"
          ],
          "name": "stdout"
        }
      ]
    },
    {
      "cell_type": "code",
      "metadata": {
        "id": "7NBAm7mZbgNQ",
        "colab_type": "code",
        "colab": {
          "base_uri": "https://localhost:8080/",
          "height": 50
        },
        "outputId": "526733cf-acf9-4a39-e07b-9da0091e5862"
      },
      "source": [
        "Violence_pistol_detection('running.mpg')"
      ],
      "execution_count": null,
      "outputs": [
        {
          "output_type": "stream",
          "text": [
            "No Violence Detected\n",
            "No Pistol Detected\n"
          ],
          "name": "stdout"
        }
      ]
    },
    {
      "cell_type": "code",
      "metadata": {
        "id": "bBzuXxgzGZ7K",
        "colab_type": "code",
        "colab": {}
      },
      "source": [
        ""
      ],
      "execution_count": null,
      "outputs": []
    }
  ]
}